{
 "cells": [
  {
   "cell_type": "code",
   "execution_count": 1,
   "metadata": {},
   "outputs": [
    {
     "data": {
      "text/html": [
       "<div><style>\n",
       ".dataframe > thead > tr,\n",
       ".dataframe > tbody > tr {\n",
       "  text-align: right;\n",
       "  white-space: pre-wrap;\n",
       "}\n",
       "</style>\n",
       "<small>shape: (86, 5)</small><table border=\"1\" class=\"dataframe\"><thead><tr><th>source_key</th><th>source_id</th><th>metric_nice_name</th><th>uom</th><th>division_id</th></tr><tr><td>str</td><td>i64</td><td>str</td><td>str</td><td>i64</td></tr></thead><tbody><tr><td>&quot;6941901&quot;</td><td>69419</td><td>&quot;OilTank1Level&quot;</td><td>&quot;in&quot;</td><td>10</td></tr><tr><td>&quot;6941902&quot;</td><td>69419</td><td>&quot;OilTank2Level&quot;</td><td>&quot;in&quot;</td><td>10</td></tr><tr><td>&quot;6941903&quot;</td><td>69419</td><td>&quot;OilTank3Level&quot;</td><td>&quot;in&quot;</td><td>10</td></tr><tr><td>&quot;6941903&quot;</td><td>69419</td><td>&quot;OilTank4Level&quot;</td><td>&quot;in&quot;</td><td>10</td></tr><tr><td>&quot;6941901&quot;</td><td>69419</td><td>&quot;OilTank1Volume…</td><td>&quot;bbl&quot;</td><td>10</td></tr><tr><td>&hellip;</td><td>&hellip;</td><td>&hellip;</td><td>&hellip;</td><td>&hellip;</td></tr><tr><td>&quot;110009W1&quot;</td><td>110009</td><td>&quot;WaterTank1Inch…</td><td>&quot;bbl&quot;</td><td>30</td></tr><tr><td>&quot;110009W2&quot;</td><td>110009</td><td>&quot;WaterTank2Leve…</td><td>&quot;in&quot;</td><td>30</td></tr><tr><td>&quot;110009W2&quot;</td><td>110009</td><td>&quot;WaterTank2Volu…</td><td>&quot;bbl&quot;</td><td>30</td></tr><tr><td>&quot;110009W2&quot;</td><td>110009</td><td>&quot;WaterTank2Time…</td><td>&quot;bbl&quot;</td><td>30</td></tr><tr><td>&quot;110009W2&quot;</td><td>110009</td><td>&quot;WaterTank2Inch…</td><td>&quot;bbl&quot;</td><td>30</td></tr></tbody></table></div>"
      ],
      "text/plain": [
       "shape: (86, 5)\n",
       "┌────────────┬───────────┬────────────────────────┬─────┬─────────────┐\n",
       "│ source_key ┆ source_id ┆ metric_nice_name       ┆ uom ┆ division_id │\n",
       "│ ---        ┆ ---       ┆ ---                    ┆ --- ┆ ---         │\n",
       "│ str        ┆ i64       ┆ str                    ┆ str ┆ i64         │\n",
       "╞════════════╪═══════════╪════════════════════════╪═════╪═════════════╡\n",
       "│ 6941901    ┆ 69419     ┆ OilTank1Level          ┆ in  ┆ 10          │\n",
       "│ 6941902    ┆ 69419     ┆ OilTank2Level          ┆ in  ┆ 10          │\n",
       "│ 6941903    ┆ 69419     ┆ OilTank3Level          ┆ in  ┆ 10          │\n",
       "│ 6941903    ┆ 69419     ┆ OilTank4Level          ┆ in  ┆ 10          │\n",
       "│ 6941901    ┆ 69419     ┆ OilTank1Volume         ┆ bbl ┆ 10          │\n",
       "│ …          ┆ …         ┆ …                      ┆ …   ┆ …           │\n",
       "│ 110009W1   ┆ 110009    ┆ WaterTank1InchesToESD  ┆ bbl ┆ 30          │\n",
       "│ 110009W2   ┆ 110009    ┆ WaterTank2Level        ┆ in  ┆ 30          │\n",
       "│ 110009W2   ┆ 110009    ┆ WaterTank2Volume       ┆ bbl ┆ 30          │\n",
       "│ 110009W2   ┆ 110009    ┆ WaterTank2TimeUntilESD ┆ bbl ┆ 30          │\n",
       "│ 110009W2   ┆ 110009    ┆ WaterTank2InchesToESD  ┆ bbl ┆ 30          │\n",
       "└────────────┴───────────┴────────────────────────┴─────┴─────────────┘"
      ]
     },
     "execution_count": 1,
     "metadata": {},
     "output_type": "execute_result"
    }
   ],
   "source": [
    "import polars as pl\n",
    "\n",
    "data_catalog_df = pl.read_csv(\"../mock_tables/sdm_data_catalog.csv\")\n",
    "data_catalog_df"
   ]
  },
  {
   "cell_type": "code",
   "execution_count": 2,
   "metadata": {},
   "outputs": [
    {
     "data": {
      "text/html": [
       "<div><style>\n",
       ".dataframe > thead > tr,\n",
       ".dataframe > tbody > tr {\n",
       "  text-align: right;\n",
       "  white-space: pre-wrap;\n",
       "}\n",
       "</style>\n",
       "<small>shape: (1, 5)</small><table border=\"1\" class=\"dataframe\"><thead><tr><th>source_key</th><th>source_id</th><th>metric_nice_name</th><th>uom</th><th>division_id</th></tr><tr><td>u32</td><td>u32</td><td>u32</td><td>u32</td><td>u32</td></tr></thead><tbody><tr><td>10</td><td>10</td><td>10</td><td>16</td><td>10</td></tr></tbody></table></div>"
      ],
      "text/plain": [
       "shape: (1, 5)\n",
       "┌────────────┬───────────┬──────────────────┬─────┬─────────────┐\n",
       "│ source_key ┆ source_id ┆ metric_nice_name ┆ uom ┆ division_id │\n",
       "│ ---        ┆ ---       ┆ ---              ┆ --- ┆ ---         │\n",
       "│ u32        ┆ u32       ┆ u32              ┆ u32 ┆ u32         │\n",
       "╞════════════╪═══════════╪══════════════════╪═════╪═════════════╡\n",
       "│ 10         ┆ 10        ┆ 10               ┆ 16  ┆ 10          │\n",
       "└────────────┴───────────┴──────────────────┴─────┴─────────────┘"
      ]
     },
     "execution_count": 2,
     "metadata": {},
     "output_type": "execute_result"
    }
   ],
   "source": [
    "data_catalog_df.null_count()"
   ]
  },
  {
   "cell_type": "code",
   "execution_count": 3,
   "metadata": {},
   "outputs": [
    {
     "data": {
      "text/html": [
       "<div><style>\n",
       ".dataframe > thead > tr,\n",
       ".dataframe > tbody > tr {\n",
       "  text-align: right;\n",
       "  white-space: pre-wrap;\n",
       "}\n",
       "</style>\n",
       "<small>shape: (1, 5)</small><table border=\"1\" class=\"dataframe\"><thead><tr><th>source_key</th><th>source_id</th><th>metric_nice_name</th><th>uom</th><th>division_id</th></tr><tr><td>u32</td><td>u32</td><td>u32</td><td>u32</td><td>u32</td></tr></thead><tbody><tr><td>0</td><td>0</td><td>0</td><td>6</td><td>0</td></tr></tbody></table></div>"
      ],
      "text/plain": [
       "shape: (1, 5)\n",
       "┌────────────┬───────────┬──────────────────┬─────┬─────────────┐\n",
       "│ source_key ┆ source_id ┆ metric_nice_name ┆ uom ┆ division_id │\n",
       "│ ---        ┆ ---       ┆ ---              ┆ --- ┆ ---         │\n",
       "│ u32        ┆ u32       ┆ u32              ┆ u32 ┆ u32         │\n",
       "╞════════════╪═══════════╪══════════════════╪═════╪═════════════╡\n",
       "│ 0          ┆ 0         ┆ 0                ┆ 6   ┆ 0           │\n",
       "└────────────┴───────────┴──────────────────┴─────┴─────────────┘"
      ]
     },
     "execution_count": 3,
     "metadata": {},
     "output_type": "execute_result"
    }
   ],
   "source": [
    "data_catalog_df = data_catalog_df.drop_nulls(subset=[\"source_id\"])\n",
    "data_catalog_df.null_count()"
   ]
  },
  {
   "cell_type": "code",
   "execution_count": 4,
   "metadata": {},
   "outputs": [],
   "source": [
    "from eog_mock.db import init_pg_pool\n",
    "\n",
    "await init_pg_pool()"
   ]
  },
  {
   "cell_type": "code",
   "execution_count": 5,
   "metadata": {},
   "outputs": [],
   "source": [
    "from eog_mock.db import db\n",
    "\n",
    "res = await db.insert(data_catalog_df, \"sdm_dba.data_catalog\")\n",
    "res"
   ]
  },
  {
   "cell_type": "code",
   "execution_count": 6,
   "metadata": {},
   "outputs": [
    {
     "data": {
      "text/html": [
       "<div><style>\n",
       ".dataframe > thead > tr,\n",
       ".dataframe > tbody > tr {\n",
       "  text-align: right;\n",
       "  white-space: pre-wrap;\n",
       "}\n",
       "</style>\n",
       "<small>shape: (76, 6)</small><table border=\"1\" class=\"dataframe\"><thead><tr><th>key_metric</th><th>source_key</th><th>source_id</th><th>metric_nice_name</th><th>uom</th><th>division_id</th></tr><tr><td>object</td><td>str</td><td>str</td><td>str</td><td>str</td><td>i64</td></tr></thead><tbody><tr><td>b17f11ac-d318-429a-b607-a5ba24b3d6a2</td><td>&quot;6941901&quot;</td><td>&quot;69419&quot;</td><td>&quot;OilTank1Level&quot;</td><td>&quot;in&quot;</td><td>10</td></tr><tr><td>d0613649-4688-445b-aca9-b83858a7476d</td><td>&quot;6941902&quot;</td><td>&quot;69419&quot;</td><td>&quot;OilTank2Level&quot;</td><td>&quot;in&quot;</td><td>10</td></tr><tr><td>a5de3be7-73fe-489b-b861-2ab88c3b0029</td><td>&quot;6941903&quot;</td><td>&quot;69419&quot;</td><td>&quot;OilTank3Level&quot;</td><td>&quot;in&quot;</td><td>10</td></tr><tr><td>9f31b503-6a7b-4203-ba81-c63efb0170ae</td><td>&quot;6941903&quot;</td><td>&quot;69419&quot;</td><td>&quot;OilTank4Level&quot;</td><td>&quot;in&quot;</td><td>10</td></tr><tr><td>4ac0b7d9-55fe-4865-bc29-6c202ff6349e</td><td>&quot;6941901&quot;</td><td>&quot;69419&quot;</td><td>&quot;OilTank1Volume…</td><td>&quot;bbl&quot;</td><td>10</td></tr><tr><td>&hellip;</td><td>&hellip;</td><td>&hellip;</td><td>&hellip;</td><td>&hellip;</td><td>&hellip;</td></tr><tr><td>299d6f76-46e8-49bc-b523-673d70d83097</td><td>&quot;110009W2&quot;</td><td>&quot;110009&quot;</td><td>&quot;WaterTank2Leve…</td><td>&quot;in&quot;</td><td>30</td></tr><tr><td>028aa180-e62d-4079-9b7b-8020a093c4cb</td><td>&quot;110009W2&quot;</td><td>&quot;110009&quot;</td><td>&quot;WaterTank2Volu…</td><td>&quot;bbl&quot;</td><td>30</td></tr><tr><td>19ac5155-212e-4848-8385-c75bb90fe624</td><td>&quot;110009W2&quot;</td><td>&quot;110009&quot;</td><td>&quot;WaterTank2Inch…</td><td>&quot;bbl&quot;</td><td>30</td></tr><tr><td>d0819024-ab0d-4065-894d-8234e28a8ad3</td><td>&quot;110009W2&quot;</td><td>&quot;110009&quot;</td><td>&quot;WaterTank2Time…</td><td>&quot;days&quot;</td><td>30</td></tr><tr><td>893b689c-a86d-489a-ad56-064372868099</td><td>&quot;110009W1&quot;</td><td>&quot;110009&quot;</td><td>&quot;WaterTank1Time…</td><td>&quot;days&quot;</td><td>30</td></tr></tbody></table></div>"
      ],
      "text/plain": [
       "shape: (76, 6)\n",
       "┌───────────────────────────┬────────────┬───────────┬────────────────────────┬──────┬─────────────┐\n",
       "│ key_metric                ┆ source_key ┆ source_id ┆ metric_nice_name       ┆ uom  ┆ division_id │\n",
       "│ ---                       ┆ ---        ┆ ---       ┆ ---                    ┆ ---  ┆ ---         │\n",
       "│ object                    ┆ str        ┆ str       ┆ str                    ┆ str  ┆ i64         │\n",
       "╞═══════════════════════════╪════════════╪═══════════╪════════════════════════╪══════╪═════════════╡\n",
       "│ b17f11ac-d318-429a-b607-a ┆ 6941901    ┆ 69419     ┆ OilTank1Level          ┆ in   ┆ 10          │\n",
       "│ 5ba24b3…                  ┆            ┆           ┆                        ┆      ┆             │\n",
       "│ d0613649-4688-445b-aca9-b ┆ 6941902    ┆ 69419     ┆ OilTank2Level          ┆ in   ┆ 10          │\n",
       "│ 83858a7…                  ┆            ┆           ┆                        ┆      ┆             │\n",
       "│ a5de3be7-73fe-489b-b861-2 ┆ 6941903    ┆ 69419     ┆ OilTank3Level          ┆ in   ┆ 10          │\n",
       "│ ab88c3b…                  ┆            ┆           ┆                        ┆      ┆             │\n",
       "│ 9f31b503-6a7b-4203-ba81-c ┆ 6941903    ┆ 69419     ┆ OilTank4Level          ┆ in   ┆ 10          │\n",
       "│ 63efb01…                  ┆            ┆           ┆                        ┆      ┆             │\n",
       "│ 4ac0b7d9-55fe-4865-bc29-6 ┆ 6941901    ┆ 69419     ┆ OilTank1Volume         ┆ bbl  ┆ 10          │\n",
       "│ c202ff6…                  ┆            ┆           ┆                        ┆      ┆             │\n",
       "│ …                         ┆ …          ┆ …         ┆ …                      ┆ …    ┆ …           │\n",
       "│ 299d6f76-46e8-49bc-b523-6 ┆ 110009W2   ┆ 110009    ┆ WaterTank2Level        ┆ in   ┆ 30          │\n",
       "│ 73d70d8…                  ┆            ┆           ┆                        ┆      ┆             │\n",
       "│ 028aa180-e62d-4079-9b7b-8 ┆ 110009W2   ┆ 110009    ┆ WaterTank2Volume       ┆ bbl  ┆ 30          │\n",
       "│ 020a093…                  ┆            ┆           ┆                        ┆      ┆             │\n",
       "│ 19ac5155-212e-4848-8385-c ┆ 110009W2   ┆ 110009    ┆ WaterTank2InchesToESD  ┆ bbl  ┆ 30          │\n",
       "│ 75bb90f…                  ┆            ┆           ┆                        ┆      ┆             │\n",
       "│ d0819024-ab0d-4065-894d-8 ┆ 110009W2   ┆ 110009    ┆ WaterTank2TimeUntilESD ┆ days ┆ 30          │\n",
       "│ 234e28a…                  ┆            ┆           ┆                        ┆      ┆             │\n",
       "│ 893b689c-a86d-489a-ad56-0 ┆ 110009W1   ┆ 110009    ┆ WaterTank1TimeUntilESD ┆ days ┆ 30          │\n",
       "│ 6437286…                  ┆            ┆           ┆                        ┆      ┆             │\n",
       "└───────────────────────────┴────────────┴───────────┴────────────────────────┴──────┴─────────────┘"
      ]
     },
     "execution_count": 6,
     "metadata": {},
     "output_type": "execute_result"
    }
   ],
   "source": [
    "timeseries_df = await db.fetch(\"SELECT * FROM sdm_dba.data_catalog\")\n",
    "timeseries_df"
   ]
  },
  {
   "cell_type": "code",
   "execution_count": 7,
   "metadata": {},
   "outputs": [
    {
     "data": {
      "text/html": [
       "<div><style>\n",
       ".dataframe > thead > tr,\n",
       ".dataframe > tbody > tr {\n",
       "  text-align: right;\n",
       "  white-space: pre-wrap;\n",
       "}\n",
       "</style>\n",
       "<small>shape: (76, 4)</small><table border=\"1\" class=\"dataframe\"><thead><tr><th>key_metric</th><th>metric_nice_name</th><th>uom</th><th>division_id</th></tr><tr><td>object</td><td>str</td><td>str</td><td>i64</td></tr></thead><tbody><tr><td>b17f11ac-d318-429a-b607-a5ba24b3d6a2</td><td>&quot;OilTank1Level&quot;</td><td>&quot;in&quot;</td><td>10</td></tr><tr><td>d0613649-4688-445b-aca9-b83858a7476d</td><td>&quot;OilTank2Level&quot;</td><td>&quot;in&quot;</td><td>10</td></tr><tr><td>a5de3be7-73fe-489b-b861-2ab88c3b0029</td><td>&quot;OilTank3Level&quot;</td><td>&quot;in&quot;</td><td>10</td></tr><tr><td>9f31b503-6a7b-4203-ba81-c63efb0170ae</td><td>&quot;OilTank4Level&quot;</td><td>&quot;in&quot;</td><td>10</td></tr><tr><td>4ac0b7d9-55fe-4865-bc29-6c202ff6349e</td><td>&quot;OilTank1Volume…</td><td>&quot;bbl&quot;</td><td>10</td></tr><tr><td>&hellip;</td><td>&hellip;</td><td>&hellip;</td><td>&hellip;</td></tr><tr><td>299d6f76-46e8-49bc-b523-673d70d83097</td><td>&quot;WaterTank2Leve…</td><td>&quot;in&quot;</td><td>30</td></tr><tr><td>028aa180-e62d-4079-9b7b-8020a093c4cb</td><td>&quot;WaterTank2Volu…</td><td>&quot;bbl&quot;</td><td>30</td></tr><tr><td>19ac5155-212e-4848-8385-c75bb90fe624</td><td>&quot;WaterTank2Inch…</td><td>&quot;bbl&quot;</td><td>30</td></tr><tr><td>d0819024-ab0d-4065-894d-8234e28a8ad3</td><td>&quot;WaterTank2Time…</td><td>&quot;days&quot;</td><td>30</td></tr><tr><td>893b689c-a86d-489a-ad56-064372868099</td><td>&quot;WaterTank1Time…</td><td>&quot;days&quot;</td><td>30</td></tr></tbody></table></div>"
      ],
      "text/plain": [
       "shape: (76, 4)\n",
       "┌───────────────────────────────────┬────────────────────────┬──────┬─────────────┐\n",
       "│ key_metric                        ┆ metric_nice_name       ┆ uom  ┆ division_id │\n",
       "│ ---                               ┆ ---                    ┆ ---  ┆ ---         │\n",
       "│ object                            ┆ str                    ┆ str  ┆ i64         │\n",
       "╞═══════════════════════════════════╪════════════════════════╪══════╪═════════════╡\n",
       "│ b17f11ac-d318-429a-b607-a5ba24b3… ┆ OilTank1Level          ┆ in   ┆ 10          │\n",
       "│ d0613649-4688-445b-aca9-b83858a7… ┆ OilTank2Level          ┆ in   ┆ 10          │\n",
       "│ a5de3be7-73fe-489b-b861-2ab88c3b… ┆ OilTank3Level          ┆ in   ┆ 10          │\n",
       "│ 9f31b503-6a7b-4203-ba81-c63efb01… ┆ OilTank4Level          ┆ in   ┆ 10          │\n",
       "│ 4ac0b7d9-55fe-4865-bc29-6c202ff6… ┆ OilTank1Volume         ┆ bbl  ┆ 10          │\n",
       "│ …                                 ┆ …                      ┆ …    ┆ …           │\n",
       "│ 299d6f76-46e8-49bc-b523-673d70d8… ┆ WaterTank2Level        ┆ in   ┆ 30          │\n",
       "│ 028aa180-e62d-4079-9b7b-8020a093… ┆ WaterTank2Volume       ┆ bbl  ┆ 30          │\n",
       "│ 19ac5155-212e-4848-8385-c75bb90f… ┆ WaterTank2InchesToESD  ┆ bbl  ┆ 30          │\n",
       "│ d0819024-ab0d-4065-894d-8234e28a… ┆ WaterTank2TimeUntilESD ┆ days ┆ 30          │\n",
       "│ 893b689c-a86d-489a-ad56-06437286… ┆ WaterTank1TimeUntilESD ┆ days ┆ 30          │\n",
       "└───────────────────────────────────┴────────────────────────┴──────┴─────────────┘"
      ]
     },
     "execution_count": 7,
     "metadata": {},
     "output_type": "execute_result"
    }
   ],
   "source": [
    "if timeseries_df is None:\n",
    "    raise ValueError(\"No data found\")\n",
    "\n",
    "timeseries_df = timeseries_df.drop(\"source_id\", \"source_key\")\n",
    "timeseries_df"
   ]
  },
  {
   "cell_type": "code",
   "execution_count": 8,
   "metadata": {},
   "outputs": [
    {
     "data": {
      "text/html": [
       "<div><style>\n",
       ".dataframe > thead > tr,\n",
       ".dataframe > tbody > tr {\n",
       "  text-align: right;\n",
       "  white-space: pre-wrap;\n",
       "}\n",
       "</style>\n",
       "<small>shape: (4, 4)</small><table border=\"1\" class=\"dataframe\"><thead><tr><th>key_metric</th><th>metric_nice_name</th><th>uom</th><th>division_id</th></tr><tr><td>object</td><td>str</td><td>str</td><td>i64</td></tr></thead><tbody><tr><td>485dd9ce-55ea-4e34-b96f-21e413ab8a71</td><td>&quot;OilTank1Capaci…</td><td>&quot;bbl&quot;</td><td>14</td></tr><tr><td>9e41a2e8-78d5-4dd9-b63f-66fa4676dcfb</td><td>&quot;OilTank2Capaci…</td><td>&quot;bbl&quot;</td><td>14</td></tr><tr><td>1a909c77-d910-4862-b7f4-0ae902c9cbab</td><td>&quot;WaterTank1Capa…</td><td>&quot;bbl&quot;</td><td>14</td></tr><tr><td>3ec25f10-df5b-433a-9aab-43c56d2a6057</td><td>&quot;WaterTank2Capa…</td><td>&quot;bbl&quot;</td><td>14</td></tr></tbody></table></div>"
      ],
      "text/plain": [
       "shape: (4, 4)\n",
       "┌───────────────────────────────────┬────────────────────┬─────┬─────────────┐\n",
       "│ key_metric                        ┆ metric_nice_name   ┆ uom ┆ division_id │\n",
       "│ ---                               ┆ ---                ┆ --- ┆ ---         │\n",
       "│ object                            ┆ str                ┆ str ┆ i64         │\n",
       "╞═══════════════════════════════════╪════════════════════╪═════╪═════════════╡\n",
       "│ 485dd9ce-55ea-4e34-b96f-21e413ab… ┆ OilTank1Capacity   ┆ bbl ┆ 14          │\n",
       "│ 9e41a2e8-78d5-4dd9-b63f-66fa4676… ┆ OilTank2Capacity   ┆ bbl ┆ 14          │\n",
       "│ 1a909c77-d910-4862-b7f4-0ae902c9… ┆ WaterTank1Capacity ┆ bbl ┆ 14          │\n",
       "│ 3ec25f10-df5b-433a-9aab-43c56d2a… ┆ WaterTank2Capacity ┆ bbl ┆ 14          │\n",
       "└───────────────────────────────────┴────────────────────┴─────┴─────────────┘"
      ]
     },
     "execution_count": 8,
     "metadata": {},
     "output_type": "execute_result"
    }
   ],
   "source": [
    "capacity_df = timeseries_df.filter(pl.col(\"metric_nice_name\").str.contains(\"Capacity\"))\n",
    "capacity_df"
   ]
  },
  {
   "cell_type": "code",
   "execution_count": 9,
   "metadata": {},
   "outputs": [
    {
     "data": {
      "text/html": [
       "<div><style>\n",
       ".dataframe > thead > tr,\n",
       ".dataframe > tbody > tr {\n",
       "  text-align: right;\n",
       "  white-space: pre-wrap;\n",
       "}\n",
       "</style>\n",
       "<small>shape: (4, 5)</small><table border=\"1\" class=\"dataframe\"><thead><tr><th>key_metric</th><th>metric_nice_name</th><th>uom</th><th>division_id</th><th>ts</th></tr><tr><td>object</td><td>str</td><td>str</td><td>i64</td><td>datetime[μs]</td></tr></thead><tbody><tr><td>485dd9ce-55ea-4e34-b96f-21e413ab8a71</td><td>&quot;OilTank1Capaci…</td><td>&quot;bbl&quot;</td><td>14</td><td>2023-11-07 09:00:00</td></tr><tr><td>9e41a2e8-78d5-4dd9-b63f-66fa4676dcfb</td><td>&quot;OilTank2Capaci…</td><td>&quot;bbl&quot;</td><td>14</td><td>2023-11-07 09:00:00</td></tr><tr><td>1a909c77-d910-4862-b7f4-0ae902c9cbab</td><td>&quot;WaterTank1Capa…</td><td>&quot;bbl&quot;</td><td>14</td><td>2023-11-07 09:00:00</td></tr><tr><td>3ec25f10-df5b-433a-9aab-43c56d2a6057</td><td>&quot;WaterTank2Capa…</td><td>&quot;bbl&quot;</td><td>14</td><td>2023-11-07 09:00:00</td></tr></tbody></table></div>"
      ],
      "text/plain": [
       "shape: (4, 5)\n",
       "┌───────────────────────────────────┬────────────────────┬─────┬─────────────┬─────────────────────┐\n",
       "│ key_metric                        ┆ metric_nice_name   ┆ uom ┆ division_id ┆ ts                  │\n",
       "│ ---                               ┆ ---                ┆ --- ┆ ---         ┆ ---                 │\n",
       "│ object                            ┆ str                ┆ str ┆ i64         ┆ datetime[μs]        │\n",
       "╞═══════════════════════════════════╪════════════════════╪═════╪═════════════╪═════════════════════╡\n",
       "│ 485dd9ce-55ea-4e34-b96f-21e413ab… ┆ OilTank1Capacity   ┆ bbl ┆ 14          ┆ 2023-11-07 09:00:00 │\n",
       "│ 9e41a2e8-78d5-4dd9-b63f-66fa4676… ┆ OilTank2Capacity   ┆ bbl ┆ 14          ┆ 2023-11-07 09:00:00 │\n",
       "│ 1a909c77-d910-4862-b7f4-0ae902c9… ┆ WaterTank1Capacity ┆ bbl ┆ 14          ┆ 2023-11-07 09:00:00 │\n",
       "│ 3ec25f10-df5b-433a-9aab-43c56d2a… ┆ WaterTank2Capacity ┆ bbl ┆ 14          ┆ 2023-11-07 09:00:00 │\n",
       "└───────────────────────────────────┴────────────────────┴─────┴─────────────┴─────────────────────┘"
      ]
     },
     "execution_count": 9,
     "metadata": {},
     "output_type": "execute_result"
    }
   ],
   "source": [
    "nov_7 = pl.datetime(year=2023, month=11, day=7, hour=9, minute=0, second=0)\n",
    "capacity_df = capacity_df.with_columns(nov_7.alias(\"ts\"))\n",
    "capacity_df"
   ]
  },
  {
   "cell_type": "code",
   "execution_count": 10,
   "metadata": {},
   "outputs": [
    {
     "data": {
      "text/html": [
       "<div><style>\n",
       ".dataframe > thead > tr,\n",
       ".dataframe > tbody > tr {\n",
       "  text-align: right;\n",
       "  white-space: pre-wrap;\n",
       "}\n",
       "</style>\n",
       "<small>shape: (4, 3)</small><table border=\"1\" class=\"dataframe\"><thead><tr><th>key_metric</th><th>ts</th><th>value</th></tr><tr><td>object</td><td>datetime[μs]</td><td>f64</td></tr></thead><tbody><tr><td>485dd9ce-55ea-4e34-b96f-21e413ab8a71</td><td>2023-11-07 09:00:00</td><td>413.344118</td></tr><tr><td>9e41a2e8-78d5-4dd9-b63f-66fa4676dcfb</td><td>2023-11-07 09:00:00</td><td>406.099328</td></tr><tr><td>1a909c77-d910-4862-b7f4-0ae902c9cbab</td><td>2023-11-07 09:00:00</td><td>410.476513</td></tr><tr><td>3ec25f10-df5b-433a-9aab-43c56d2a6057</td><td>2023-11-07 09:00:00</td><td>409.718222</td></tr></tbody></table></div>"
      ],
      "text/plain": [
       "shape: (4, 3)\n",
       "┌───────────────────────────────────┬─────────────────────┬────────────┐\n",
       "│ key_metric                        ┆ ts                  ┆ value      │\n",
       "│ ---                               ┆ ---                 ┆ ---        │\n",
       "│ object                            ┆ datetime[μs]        ┆ f64        │\n",
       "╞═══════════════════════════════════╪═════════════════════╪════════════╡\n",
       "│ 485dd9ce-55ea-4e34-b96f-21e413ab… ┆ 2023-11-07 09:00:00 ┆ 413.344118 │\n",
       "│ 9e41a2e8-78d5-4dd9-b63f-66fa4676… ┆ 2023-11-07 09:00:00 ┆ 406.099328 │\n",
       "│ 1a909c77-d910-4862-b7f4-0ae902c9… ┆ 2023-11-07 09:00:00 ┆ 410.476513 │\n",
       "│ 3ec25f10-df5b-433a-9aab-43c56d2a… ┆ 2023-11-07 09:00:00 ┆ 409.718222 │\n",
       "└───────────────────────────────────┴─────────────────────┴────────────┘"
      ]
     },
     "execution_count": 10,
     "metadata": {},
     "output_type": "execute_result"
    }
   ],
   "source": [
    "import random\n",
    "\n",
    "values = map(lambda _: random.uniform(400.0, 416.0), range(capacity_df.height))\n",
    "values = pl.Series(\"value\", values)\n",
    "capacity_df = capacity_df.select(\"key_metric\", \"ts\", values)\n",
    "capacity_df"
   ]
  },
  {
   "cell_type": "code",
   "execution_count": 11,
   "metadata": {},
   "outputs": [
    {
     "data": {
      "text/html": [
       "<div><style>\n",
       ".dataframe > thead > tr,\n",
       ".dataframe > tbody > tr {\n",
       "  text-align: right;\n",
       "  white-space: pre-wrap;\n",
       "}\n",
       "</style>\n",
       "<small>shape: (25, 4)</small><table border=\"1\" class=\"dataframe\"><thead><tr><th>key_metric</th><th>metric_nice_name</th><th>uom</th><th>division_id</th></tr><tr><td>object</td><td>str</td><td>str</td><td>i64</td></tr></thead><tbody><tr><td>b17f11ac-d318-429a-b607-a5ba24b3d6a2</td><td>&quot;OilTank1Level&quot;</td><td>&quot;in&quot;</td><td>10</td></tr><tr><td>d0613649-4688-445b-aca9-b83858a7476d</td><td>&quot;OilTank2Level&quot;</td><td>&quot;in&quot;</td><td>10</td></tr><tr><td>a5de3be7-73fe-489b-b861-2ab88c3b0029</td><td>&quot;OilTank3Level&quot;</td><td>&quot;in&quot;</td><td>10</td></tr><tr><td>9f31b503-6a7b-4203-ba81-c63efb0170ae</td><td>&quot;OilTank4Level&quot;</td><td>&quot;in&quot;</td><td>10</td></tr><tr><td>aecb01ea-c950-4f6e-8477-f422c224c430</td><td>&quot;WaterTank1Leve…</td><td>&quot;in&quot;</td><td>10</td></tr><tr><td>&hellip;</td><td>&hellip;</td><td>&hellip;</td><td>&hellip;</td></tr><tr><td>82a65210-f198-410a-8859-a5bfb5759677</td><td>&quot;WaterTank2Leve…</td><td>&quot;in&quot;</td><td>14</td></tr><tr><td>1ac3dc19-5a49-441a-92ed-64710d48b4f6</td><td>&quot;OilTank1Level&quot;</td><td>&quot;in&quot;</td><td>30</td></tr><tr><td>c7105e6f-8a8e-4b3d-872d-ed2072f4a655</td><td>&quot;OilTank2Level&quot;</td><td>&quot;in&quot;</td><td>30</td></tr><tr><td>766d3faf-54f8-4e24-90ee-b4f9155fdbca</td><td>&quot;WaterTank1Leve…</td><td>&quot;in&quot;</td><td>30</td></tr><tr><td>299d6f76-46e8-49bc-b523-673d70d83097</td><td>&quot;WaterTank2Leve…</td><td>&quot;in&quot;</td><td>30</td></tr></tbody></table></div>"
      ],
      "text/plain": [
       "shape: (25, 4)\n",
       "┌───────────────────────────────────┬──────────────────┬─────┬─────────────┐\n",
       "│ key_metric                        ┆ metric_nice_name ┆ uom ┆ division_id │\n",
       "│ ---                               ┆ ---              ┆ --- ┆ ---         │\n",
       "│ object                            ┆ str              ┆ str ┆ i64         │\n",
       "╞═══════════════════════════════════╪══════════════════╪═════╪═════════════╡\n",
       "│ b17f11ac-d318-429a-b607-a5ba24b3… ┆ OilTank1Level    ┆ in  ┆ 10          │\n",
       "│ d0613649-4688-445b-aca9-b83858a7… ┆ OilTank2Level    ┆ in  ┆ 10          │\n",
       "│ a5de3be7-73fe-489b-b861-2ab88c3b… ┆ OilTank3Level    ┆ in  ┆ 10          │\n",
       "│ 9f31b503-6a7b-4203-ba81-c63efb01… ┆ OilTank4Level    ┆ in  ┆ 10          │\n",
       "│ aecb01ea-c950-4f6e-8477-f422c224… ┆ WaterTank1Level  ┆ in  ┆ 10          │\n",
       "│ …                                 ┆ …                ┆ …   ┆ …           │\n",
       "│ 82a65210-f198-410a-8859-a5bfb575… ┆ WaterTank2Level  ┆ in  ┆ 14          │\n",
       "│ 1ac3dc19-5a49-441a-92ed-64710d48… ┆ OilTank1Level    ┆ in  ┆ 30          │\n",
       "│ c7105e6f-8a8e-4b3d-872d-ed2072f4… ┆ OilTank2Level    ┆ in  ┆ 30          │\n",
       "│ 766d3faf-54f8-4e24-90ee-b4f9155f… ┆ WaterTank1Level  ┆ in  ┆ 30          │\n",
       "│ 299d6f76-46e8-49bc-b523-673d70d8… ┆ WaterTank2Level  ┆ in  ┆ 30          │\n",
       "└───────────────────────────────────┴──────────────────┴─────┴─────────────┘"
      ]
     },
     "execution_count": 11,
     "metadata": {},
     "output_type": "execute_result"
    }
   ],
   "source": [
    "level_df = timeseries_df.filter(pl.col(\"metric_nice_name\").str.contains(\"Level\"))\n",
    "level_df"
   ]
  },
  {
   "cell_type": "code",
   "execution_count": 12,
   "metadata": {},
   "outputs": [
    {
     "name": "stderr",
     "output_type": "stream",
     "text": [
      "/tmp/ipykernel_31209/1944652013.py:3: DeprecationWarning: datetime.datetime.utcnow() is deprecated and scheduled for removal in a future version. Use timezone-aware objects to represent datetimes in UTC: datetime.datetime.now(datetime.UTC).\n",
      "  now = datetime.utcnow()\n"
     ]
    },
    {
     "data": {
      "text/html": [
       "<div><style>\n",
       ".dataframe > thead > tr,\n",
       ".dataframe > tbody > tr {\n",
       "  text-align: right;\n",
       "  white-space: pre-wrap;\n",
       "}\n",
       "</style>\n",
       "<small>shape: (25, 5)</small><table border=\"1\" class=\"dataframe\"><thead><tr><th>key_metric</th><th>metric_nice_name</th><th>uom</th><th>division_id</th><th>ts</th></tr><tr><td>object</td><td>str</td><td>str</td><td>i64</td><td>datetime[μs]</td></tr></thead><tbody><tr><td>b17f11ac-d318-429a-b607-a5ba24b3d6a2</td><td>&quot;OilTank1Level&quot;</td><td>&quot;in&quot;</td><td>10</td><td>2024-03-06 04:11:36.465651</td></tr><tr><td>d0613649-4688-445b-aca9-b83858a7476d</td><td>&quot;OilTank2Level&quot;</td><td>&quot;in&quot;</td><td>10</td><td>2024-03-06 04:10:57.773391</td></tr><tr><td>a5de3be7-73fe-489b-b861-2ab88c3b0029</td><td>&quot;OilTank3Level&quot;</td><td>&quot;in&quot;</td><td>10</td><td>2024-03-06 04:14:39.496037</td></tr><tr><td>9f31b503-6a7b-4203-ba81-c63efb0170ae</td><td>&quot;OilTank4Level&quot;</td><td>&quot;in&quot;</td><td>10</td><td>2024-03-06 04:15:49.277547</td></tr><tr><td>aecb01ea-c950-4f6e-8477-f422c224c430</td><td>&quot;WaterTank1Leve…</td><td>&quot;in&quot;</td><td>10</td><td>2024-03-06 04:12:21.545042</td></tr><tr><td>&hellip;</td><td>&hellip;</td><td>&hellip;</td><td>&hellip;</td><td>&hellip;</td></tr><tr><td>82a65210-f198-410a-8859-a5bfb5759677</td><td>&quot;WaterTank2Leve…</td><td>&quot;in&quot;</td><td>14</td><td>2024-03-06 04:11:21.206990</td></tr><tr><td>1ac3dc19-5a49-441a-92ed-64710d48b4f6</td><td>&quot;OilTank1Level&quot;</td><td>&quot;in&quot;</td><td>30</td><td>2024-03-06 04:12:34.255959</td></tr><tr><td>c7105e6f-8a8e-4b3d-872d-ed2072f4a655</td><td>&quot;OilTank2Level&quot;</td><td>&quot;in&quot;</td><td>30</td><td>2024-03-06 04:12:44.646494</td></tr><tr><td>766d3faf-54f8-4e24-90ee-b4f9155fdbca</td><td>&quot;WaterTank1Leve…</td><td>&quot;in&quot;</td><td>30</td><td>2024-03-06 04:11:30.972475</td></tr><tr><td>299d6f76-46e8-49bc-b523-673d70d83097</td><td>&quot;WaterTank2Leve…</td><td>&quot;in&quot;</td><td>30</td><td>2024-03-06 04:12:19.965126</td></tr></tbody></table></div>"
      ],
      "text/plain": [
       "shape: (25, 5)\n",
       "┌──────────────────────────────┬──────────────────┬─────┬─────────────┬────────────────────────────┐\n",
       "│ key_metric                   ┆ metric_nice_name ┆ uom ┆ division_id ┆ ts                         │\n",
       "│ ---                          ┆ ---              ┆ --- ┆ ---         ┆ ---                        │\n",
       "│ object                       ┆ str              ┆ str ┆ i64         ┆ datetime[μs]               │\n",
       "╞══════════════════════════════╪══════════════════╪═════╪═════════════╪════════════════════════════╡\n",
       "│ b17f11ac-d318-429a-b607-a5ba ┆ OilTank1Level    ┆ in  ┆ 10          ┆ 2024-03-06 04:11:36.465651 │\n",
       "│ 24b3…                        ┆                  ┆     ┆             ┆                            │\n",
       "│ d0613649-4688-445b-aca9-b838 ┆ OilTank2Level    ┆ in  ┆ 10          ┆ 2024-03-06 04:10:57.773391 │\n",
       "│ 58a7…                        ┆                  ┆     ┆             ┆                            │\n",
       "│ a5de3be7-73fe-489b-b861-2ab8 ┆ OilTank3Level    ┆ in  ┆ 10          ┆ 2024-03-06 04:14:39.496037 │\n",
       "│ 8c3b…                        ┆                  ┆     ┆             ┆                            │\n",
       "│ 9f31b503-6a7b-4203-ba81-c63e ┆ OilTank4Level    ┆ in  ┆ 10          ┆ 2024-03-06 04:15:49.277547 │\n",
       "│ fb01…                        ┆                  ┆     ┆             ┆                            │\n",
       "│ aecb01ea-c950-4f6e-8477-f422 ┆ WaterTank1Level  ┆ in  ┆ 10          ┆ 2024-03-06 04:12:21.545042 │\n",
       "│ c224…                        ┆                  ┆     ┆             ┆                            │\n",
       "│ …                            ┆ …                ┆ …   ┆ …           ┆ …                          │\n",
       "│ 82a65210-f198-410a-8859-a5bf ┆ WaterTank2Level  ┆ in  ┆ 14          ┆ 2024-03-06 04:11:21.206990 │\n",
       "│ b575…                        ┆                  ┆     ┆             ┆                            │\n",
       "│ 1ac3dc19-5a49-441a-92ed-6471 ┆ OilTank1Level    ┆ in  ┆ 30          ┆ 2024-03-06 04:12:34.255959 │\n",
       "│ 0d48…                        ┆                  ┆     ┆             ┆                            │\n",
       "│ c7105e6f-8a8e-4b3d-872d-ed20 ┆ OilTank2Level    ┆ in  ┆ 30          ┆ 2024-03-06 04:12:44.646494 │\n",
       "│ 72f4…                        ┆                  ┆     ┆             ┆                            │\n",
       "│ 766d3faf-54f8-4e24-90ee-b4f9 ┆ WaterTank1Level  ┆ in  ┆ 30          ┆ 2024-03-06 04:11:30.972475 │\n",
       "│ 155f…                        ┆                  ┆     ┆             ┆                            │\n",
       "│ 299d6f76-46e8-49bc-b523-673d ┆ WaterTank2Level  ┆ in  ┆ 30          ┆ 2024-03-06 04:12:19.965126 │\n",
       "│ 70d8…                        ┆                  ┆     ┆             ┆                            │\n",
       "└──────────────────────────────┴──────────────────┴─────┴─────────────┴────────────────────────────┘"
      ]
     },
     "execution_count": 12,
     "metadata": {},
     "output_type": "execute_result"
    }
   ],
   "source": [
    "from datetime import datetime, timedelta\n",
    "\n",
    "now = datetime.utcnow()\n",
    "ts = map(\n",
    "    lambda _: now - timedelta(minutes=random.uniform(0, 5)), range(level_df.height)\n",
    ")\n",
    "ts = pl.Series(\"ts\", ts)\n",
    "level_df = level_df.with_columns(ts)\n",
    "level_df"
   ]
  },
  {
   "cell_type": "code",
   "execution_count": 13,
   "metadata": {},
   "outputs": [
    {
     "data": {
      "text/html": [
       "<div><style>\n",
       ".dataframe > thead > tr,\n",
       ".dataframe > tbody > tr {\n",
       "  text-align: right;\n",
       "  white-space: pre-wrap;\n",
       "}\n",
       "</style>\n",
       "<small>shape: (25, 3)</small><table border=\"1\" class=\"dataframe\"><thead><tr><th>key_metric</th><th>ts</th><th>value</th></tr><tr><td>object</td><td>datetime[μs]</td><td>f64</td></tr></thead><tbody><tr><td>b17f11ac-d318-429a-b607-a5ba24b3d6a2</td><td>2024-03-06 04:11:36.465651</td><td>62.159021</td></tr><tr><td>d0613649-4688-445b-aca9-b83858a7476d</td><td>2024-03-06 04:10:57.773391</td><td>88.524576</td></tr><tr><td>a5de3be7-73fe-489b-b861-2ab88c3b0029</td><td>2024-03-06 04:14:39.496037</td><td>44.370742</td></tr><tr><td>9f31b503-6a7b-4203-ba81-c63efb0170ae</td><td>2024-03-06 04:15:49.277547</td><td>139.593031</td></tr><tr><td>aecb01ea-c950-4f6e-8477-f422c224c430</td><td>2024-03-06 04:12:21.545042</td><td>49.260341</td></tr><tr><td>&hellip;</td><td>&hellip;</td><td>&hellip;</td></tr><tr><td>82a65210-f198-410a-8859-a5bfb5759677</td><td>2024-03-06 04:11:21.206990</td><td>83.739797</td></tr><tr><td>1ac3dc19-5a49-441a-92ed-64710d48b4f6</td><td>2024-03-06 04:12:34.255959</td><td>82.727023</td></tr><tr><td>c7105e6f-8a8e-4b3d-872d-ed2072f4a655</td><td>2024-03-06 04:12:44.646494</td><td>59.778672</td></tr><tr><td>766d3faf-54f8-4e24-90ee-b4f9155fdbca</td><td>2024-03-06 04:11:30.972475</td><td>77.158114</td></tr><tr><td>299d6f76-46e8-49bc-b523-673d70d83097</td><td>2024-03-06 04:12:19.965126</td><td>97.245231</td></tr></tbody></table></div>"
      ],
      "text/plain": [
       "shape: (25, 3)\n",
       "┌───────────────────────────────────┬────────────────────────────┬────────────┐\n",
       "│ key_metric                        ┆ ts                         ┆ value      │\n",
       "│ ---                               ┆ ---                        ┆ ---        │\n",
       "│ object                            ┆ datetime[μs]               ┆ f64        │\n",
       "╞═══════════════════════════════════╪════════════════════════════╪════════════╡\n",
       "│ b17f11ac-d318-429a-b607-a5ba24b3… ┆ 2024-03-06 04:11:36.465651 ┆ 62.159021  │\n",
       "│ d0613649-4688-445b-aca9-b83858a7… ┆ 2024-03-06 04:10:57.773391 ┆ 88.524576  │\n",
       "│ a5de3be7-73fe-489b-b861-2ab88c3b… ┆ 2024-03-06 04:14:39.496037 ┆ 44.370742  │\n",
       "│ 9f31b503-6a7b-4203-ba81-c63efb01… ┆ 2024-03-06 04:15:49.277547 ┆ 139.593031 │\n",
       "│ aecb01ea-c950-4f6e-8477-f422c224… ┆ 2024-03-06 04:12:21.545042 ┆ 49.260341  │\n",
       "│ …                                 ┆ …                          ┆ …          │\n",
       "│ 82a65210-f198-410a-8859-a5bfb575… ┆ 2024-03-06 04:11:21.206990 ┆ 83.739797  │\n",
       "│ 1ac3dc19-5a49-441a-92ed-64710d48… ┆ 2024-03-06 04:12:34.255959 ┆ 82.727023  │\n",
       "│ c7105e6f-8a8e-4b3d-872d-ed2072f4… ┆ 2024-03-06 04:12:44.646494 ┆ 59.778672  │\n",
       "│ 766d3faf-54f8-4e24-90ee-b4f9155f… ┆ 2024-03-06 04:11:30.972475 ┆ 77.158114  │\n",
       "│ 299d6f76-46e8-49bc-b523-673d70d8… ┆ 2024-03-06 04:12:19.965126 ┆ 97.245231  │\n",
       "└───────────────────────────────────┴────────────────────────────┴────────────┘"
      ]
     },
     "execution_count": 13,
     "metadata": {},
     "output_type": "execute_result"
    }
   ],
   "source": [
    "level_values = map(lambda _: random.uniform(0.0, 144.0), range(level_df.height))\n",
    "level_values = pl.Series(\"value\", level_values)\n",
    "level_df = level_df.select(\"key_metric\", \"ts\", level_values)\n",
    "level_df"
   ]
  },
  {
   "cell_type": "code",
   "execution_count": 14,
   "metadata": {},
   "outputs": [
    {
     "data": {
      "text/html": [
       "<div><style>\n",
       ".dataframe > thead > tr,\n",
       ".dataframe > tbody > tr {\n",
       "  text-align: right;\n",
       "  white-space: pre-wrap;\n",
       "}\n",
       "</style>\n",
       "<small>shape: (25, 3)</small><table border=\"1\" class=\"dataframe\"><thead><tr><th>key_metric</th><th>ts</th><th>value</th></tr><tr><td>object</td><td>datetime[μs]</td><td>f64</td></tr></thead><tbody><tr><td>4ac0b7d9-55fe-4865-bc29-6c202ff6349e</td><td>2024-03-06 04:11:36.465651</td><td>172.663947</td></tr><tr><td>a99b4283-d21f-4840-b1ae-d91a55011b27</td><td>2024-03-06 04:10:57.773391</td><td>245.9016</td></tr><tr><td>c2650a39-a755-4855-976b-e3f712197666</td><td>2024-03-06 04:14:39.496037</td><td>123.252061</td></tr><tr><td>0c7822d0-97c0-4b75-b3f3-b8b17c2dabd5</td><td>2024-03-06 04:15:49.277547</td><td>387.758421</td></tr><tr><td>0f7f1002-a4d6-4707-a01b-c9c6bf440f34</td><td>2024-03-06 04:12:21.545042</td><td>136.83428</td></tr><tr><td>&hellip;</td><td>&hellip;</td><td>&hellip;</td></tr><tr><td>393a9fd5-866d-45d9-98f2-3145da3eab20</td><td>2024-03-06 04:11:21.206990</td><td>232.610547</td></tr><tr><td>d6589a9f-f49b-4304-afcb-909c6cf38ba2</td><td>2024-03-06 04:12:34.255959</td><td>229.797286</td></tr><tr><td>ec846e9e-1741-4044-8382-a7e1ec4ef4fb</td><td>2024-03-06 04:12:44.646494</td><td>166.051867</td></tr><tr><td>00df10ed-9159-4b71-b564-0cb0b14dfa07</td><td>2024-03-06 04:11:30.972475</td><td>214.328095</td></tr><tr><td>028aa180-e62d-4079-9b7b-8020a093c4cb</td><td>2024-03-06 04:12:19.965126</td><td>270.125642</td></tr></tbody></table></div>"
      ],
      "text/plain": [
       "shape: (25, 3)\n",
       "┌───────────────────────────────────┬────────────────────────────┬────────────┐\n",
       "│ key_metric                        ┆ ts                         ┆ value      │\n",
       "│ ---                               ┆ ---                        ┆ ---        │\n",
       "│ object                            ┆ datetime[μs]               ┆ f64        │\n",
       "╞═══════════════════════════════════╪════════════════════════════╪════════════╡\n",
       "│ 4ac0b7d9-55fe-4865-bc29-6c202ff6… ┆ 2024-03-06 04:11:36.465651 ┆ 172.663947 │\n",
       "│ a99b4283-d21f-4840-b1ae-d91a5501… ┆ 2024-03-06 04:10:57.773391 ┆ 245.9016   │\n",
       "│ c2650a39-a755-4855-976b-e3f71219… ┆ 2024-03-06 04:14:39.496037 ┆ 123.252061 │\n",
       "│ 0c7822d0-97c0-4b75-b3f3-b8b17c2d… ┆ 2024-03-06 04:15:49.277547 ┆ 387.758421 │\n",
       "│ 0f7f1002-a4d6-4707-a01b-c9c6bf44… ┆ 2024-03-06 04:12:21.545042 ┆ 136.83428  │\n",
       "│ …                                 ┆ …                          ┆ …          │\n",
       "│ 393a9fd5-866d-45d9-98f2-3145da3e… ┆ 2024-03-06 04:11:21.206990 ┆ 232.610547 │\n",
       "│ d6589a9f-f49b-4304-afcb-909c6cf3… ┆ 2024-03-06 04:12:34.255959 ┆ 229.797286 │\n",
       "│ ec846e9e-1741-4044-8382-a7e1ec4e… ┆ 2024-03-06 04:12:44.646494 ┆ 166.051867 │\n",
       "│ 00df10ed-9159-4b71-b564-0cb0b14d… ┆ 2024-03-06 04:11:30.972475 ┆ 214.328095 │\n",
       "│ 028aa180-e62d-4079-9b7b-8020a093… ┆ 2024-03-06 04:12:19.965126 ┆ 270.125642 │\n",
       "└───────────────────────────────────┴────────────────────────────┴────────────┘"
      ]
     },
     "execution_count": 14,
     "metadata": {},
     "output_type": "execute_result"
    }
   ],
   "source": [
    "volume_df = timeseries_df.filter(pl.col(\"metric_nice_name\").str.contains(\"Volume\"))\n",
    "\n",
    "volume_df_from_level_df = level_df.select(\"ts\", \"value\").with_columns(\n",
    "    pl.col(\"value\") * 2.777777778\n",
    ")\n",
    "volume_df = volume_df.select(\n",
    "    \"key_metric\",\n",
    "    volume_df_from_level_df.get_column(\"ts\"),\n",
    "    volume_df_from_level_df.get_column(\"value\"),\n",
    ")\n",
    "volume_df"
   ]
  },
  {
   "cell_type": "code",
   "execution_count": 15,
   "metadata": {},
   "outputs": [
    {
     "data": {
      "text/html": [
       "<div><style>\n",
       ".dataframe > thead > tr,\n",
       ".dataframe > tbody > tr {\n",
       "  text-align: right;\n",
       "  white-space: pre-wrap;\n",
       "}\n",
       "</style>\n",
       "<small>shape: (6, 3)</small><table border=\"1\" class=\"dataframe\"><thead><tr><th>key_metric</th><th>ts</th><th>value</th></tr><tr><td>object</td><td>datetime[μs]</td><td>f64</td></tr></thead><tbody><tr><td>7eb0b21d-a87f-4a27-8751-f7318db2fdc8</td><td>2023-11-07 09:00:00</td><td>2.0</td></tr><tr><td>de925327-bbae-4c3d-b93c-c65094656a58</td><td>2023-11-07 09:00:00</td><td>1.0</td></tr><tr><td>2b9672ff-5a41-4954-bb31-174d434ae296</td><td>2023-11-07 09:00:00</td><td>2.0</td></tr><tr><td>a08a596d-c3f1-462d-aecf-88abb45cabc1</td><td>2023-11-07 09:00:00</td><td>2.0</td></tr><tr><td>91346655-25a8-4a44-a3ac-c8fc14457107</td><td>2023-11-07 09:00:00</td><td>1.0</td></tr><tr><td>bf404389-f86f-47fe-8eb6-aac06db9bd77</td><td>2023-11-07 09:00:00</td><td>1.0</td></tr></tbody></table></div>"
      ],
      "text/plain": [
       "shape: (6, 3)\n",
       "┌───────────────────────────────────┬─────────────────────┬───────┐\n",
       "│ key_metric                        ┆ ts                  ┆ value │\n",
       "│ ---                               ┆ ---                 ┆ ---   │\n",
       "│ object                            ┆ datetime[μs]        ┆ f64   │\n",
       "╞═══════════════════════════════════╪═════════════════════╪═══════╡\n",
       "│ 7eb0b21d-a87f-4a27-8751-f7318db2… ┆ 2023-11-07 09:00:00 ┆ 2.0   │\n",
       "│ de925327-bbae-4c3d-b93c-c6509465… ┆ 2023-11-07 09:00:00 ┆ 1.0   │\n",
       "│ 2b9672ff-5a41-4954-bb31-174d434a… ┆ 2023-11-07 09:00:00 ┆ 2.0   │\n",
       "│ a08a596d-c3f1-462d-aecf-88abb45c… ┆ 2023-11-07 09:00:00 ┆ 2.0   │\n",
       "│ 91346655-25a8-4a44-a3ac-c8fc1445… ┆ 2023-11-07 09:00:00 ┆ 1.0   │\n",
       "│ bf404389-f86f-47fe-8eb6-aac06db9… ┆ 2023-11-07 09:00:00 ┆ 1.0   │\n",
       "└───────────────────────────────────┴─────────────────────┴───────┘"
      ]
     },
     "execution_count": 15,
     "metadata": {},
     "output_type": "execute_result"
    }
   ],
   "source": [
    "ESD_id_lf = timeseries_df.filter(pl.col(\"metric_nice_name\").str.contains(\"ID\"))\n",
    "ESD_id_values = map(lambda _: random.randint(1, 2), range(ESD_id_lf.height))\n",
    "ESD_id_values = pl.Series(\"value\", ESD_id_values, pl.Float64)\n",
    "ESD_id_lf = ESD_id_lf.select(\"key_metric\", nov_7.alias(\"ts\"), ESD_id_values)\n",
    "ESD_id_lf"
   ]
  },
  {
   "cell_type": "code",
   "execution_count": 16,
   "metadata": {},
   "outputs": [
    {
     "data": {
      "text/html": [
       "<div><style>\n",
       ".dataframe > thead > tr,\n",
       ".dataframe > tbody > tr {\n",
       "  text-align: right;\n",
       "  white-space: pre-wrap;\n",
       "}\n",
       "</style>\n",
       "<small>shape: (6, 3)</small><table border=\"1\" class=\"dataframe\"><thead><tr><th>key_metric</th><th>ts</th><th>value</th></tr><tr><td>object</td><td>datetime[μs]</td><td>f64</td></tr></thead><tbody><tr><td>6d884ea0-cc9a-49a4-a73a-037eef3d2d14</td><td>2024-03-06 04:11:07.373313</td><td>395.101262</td></tr><tr><td>2099e404-65fb-45a7-a0f7-d61611ef4b2c</td><td>2024-03-06 04:15:21.870747</td><td>203.940865</td></tr><tr><td>6b88202e-6d09-43cf-a6fa-62c6e731ff0c</td><td>2024-03-06 04:14:57.811688</td><td>115.151958</td></tr><tr><td>1ea07e70-08a4-4039-9e63-f3c720492664</td><td>2024-03-06 04:13:06.682826</td><td>6.389699</td></tr><tr><td>0a5456a7-80da-44cd-b191-130a0a579c33</td><td>2024-03-06 04:14:39.113032</td><td>66.518221</td></tr><tr><td>456ae0e3-e1ef-49b2-8da0-bd4b0a846d40</td><td>2024-03-06 04:11:29.416036</td><td>173.40877</td></tr></tbody></table></div>"
      ],
      "text/plain": [
       "shape: (6, 3)\n",
       "┌───────────────────────────────────┬────────────────────────────┬────────────┐\n",
       "│ key_metric                        ┆ ts                         ┆ value      │\n",
       "│ ---                               ┆ ---                        ┆ ---        │\n",
       "│ object                            ┆ datetime[μs]               ┆ f64        │\n",
       "╞═══════════════════════════════════╪════════════════════════════╪════════════╡\n",
       "│ 6d884ea0-cc9a-49a4-a73a-037eef3d… ┆ 2024-03-06 04:11:07.373313 ┆ 395.101262 │\n",
       "│ 2099e404-65fb-45a7-a0f7-d61611ef… ┆ 2024-03-06 04:15:21.870747 ┆ 203.940865 │\n",
       "│ 6b88202e-6d09-43cf-a6fa-62c6e731… ┆ 2024-03-06 04:14:57.811688 ┆ 115.151958 │\n",
       "│ 1ea07e70-08a4-4039-9e63-f3c72049… ┆ 2024-03-06 04:13:06.682826 ┆ 6.389699   │\n",
       "│ 0a5456a7-80da-44cd-b191-130a0a57… ┆ 2024-03-06 04:14:39.113032 ┆ 66.518221  │\n",
       "│ 456ae0e3-e1ef-49b2-8da0-bd4b0a84… ┆ 2024-03-06 04:11:29.416036 ┆ 173.40877  │\n",
       "└───────────────────────────────────┴────────────────────────────┴────────────┘"
      ]
     },
     "execution_count": 16,
     "metadata": {},
     "output_type": "execute_result"
    }
   ],
   "source": [
    "tank_inches_until_alarm_df = timeseries_df.filter(\n",
    "    pl.col(\"metric_nice_name\").str.contains(\"TankInchesUntilAlarm\")\n",
    ")\n",
    "values = map(\n",
    "    lambda _: random.uniform(0.0, 400), range(tank_inches_until_alarm_df.height)\n",
    ")\n",
    "ts = map(\n",
    "    lambda _: now - timedelta(minutes=random.uniform(0, 5)),\n",
    "    range(tank_inches_until_alarm_df.height),\n",
    ")\n",
    "values = pl.Series(\"value\", values)\n",
    "ts = pl.Series(\"ts\", ts)\n",
    "tank_inches_until_alarm_df = tank_inches_until_alarm_df.select(\"key_metric\", ts, values)\n",
    "tank_inches_until_alarm_df"
   ]
  },
  {
   "cell_type": "code",
   "execution_count": 17,
   "metadata": {},
   "outputs": [
    {
     "data": {
      "text/html": [
       "<div><style>\n",
       ".dataframe > thead > tr,\n",
       ".dataframe > tbody > tr {\n",
       "  text-align: right;\n",
       "  white-space: pre-wrap;\n",
       "}\n",
       "</style>\n",
       "<small>shape: (6, 3)</small><table border=\"1\" class=\"dataframe\"><thead><tr><th>key_metric</th><th>ts</th><th>value</th></tr><tr><td>object</td><td>datetime[μs]</td><td>f64</td></tr></thead><tbody><tr><td>6467561f-e9ac-4ba0-ac6b-1f1584ee029f</td><td>2024-03-06 04:15:22.003985</td><td>25.078137</td></tr><tr><td>f10fb018-82a9-48aa-acf1-18c770f8569a</td><td>2024-03-06 04:15:32.294849</td><td>284.342497</td></tr><tr><td>eee558fb-cedd-4842-9f78-0b8f421a0148</td><td>2024-03-06 04:10:55.545766</td><td>248.584227</td></tr><tr><td>7692e6fa-507a-4636-bd73-af3d4a49bdd1</td><td>2024-03-06 04:11:14.004714</td><td>176.820281</td></tr><tr><td>9cffc87d-020a-4b08-b696-181cf2c17dd3</td><td>2024-03-06 04:14:02.007498</td><td>251.702173</td></tr><tr><td>19ac5155-212e-4848-8385-c75bb90fe624</td><td>2024-03-06 04:12:52.161838</td><td>201.847233</td></tr></tbody></table></div>"
      ],
      "text/plain": [
       "shape: (6, 3)\n",
       "┌───────────────────────────────────┬────────────────────────────┬────────────┐\n",
       "│ key_metric                        ┆ ts                         ┆ value      │\n",
       "│ ---                               ┆ ---                        ┆ ---        │\n",
       "│ object                            ┆ datetime[μs]               ┆ f64        │\n",
       "╞═══════════════════════════════════╪════════════════════════════╪════════════╡\n",
       "│ 6467561f-e9ac-4ba0-ac6b-1f1584ee… ┆ 2024-03-06 04:15:22.003985 ┆ 25.078137  │\n",
       "│ f10fb018-82a9-48aa-acf1-18c770f8… ┆ 2024-03-06 04:15:32.294849 ┆ 284.342497 │\n",
       "│ eee558fb-cedd-4842-9f78-0b8f421a… ┆ 2024-03-06 04:10:55.545766 ┆ 248.584227 │\n",
       "│ 7692e6fa-507a-4636-bd73-af3d4a49… ┆ 2024-03-06 04:11:14.004714 ┆ 176.820281 │\n",
       "│ 9cffc87d-020a-4b08-b696-181cf2c1… ┆ 2024-03-06 04:14:02.007498 ┆ 251.702173 │\n",
       "│ 19ac5155-212e-4848-8385-c75bb90f… ┆ 2024-03-06 04:12:52.161838 ┆ 201.847233 │\n",
       "└───────────────────────────────────┴────────────────────────────┴────────────┘"
      ]
     },
     "execution_count": 17,
     "metadata": {},
     "output_type": "execute_result"
    }
   ],
   "source": [
    "tank_inches_to_esd = timeseries_df.filter(\n",
    "    pl.col(\"metric_nice_name\").str.contains(\"InchesToESD\")\n",
    ")\n",
    "values = map(lambda _: random.uniform(0.0, 400), range(tank_inches_to_esd.height))\n",
    "ts = map(\n",
    "    lambda _: now - timedelta(minutes=random.uniform(0, 5)),\n",
    "    range(tank_inches_until_alarm_df.height),\n",
    ")\n",
    "values = pl.Series(\"value\", values)\n",
    "ts = pl.Series(\"ts\", ts)\n",
    "tank_inches_to_esd = tank_inches_to_esd.select(\"key_metric\", ts, values)\n",
    "tank_inches_to_esd"
   ]
  },
  {
   "cell_type": "code",
   "execution_count": 18,
   "metadata": {},
   "outputs": [
    {
     "data": {
      "text/html": [
       "<div><style>\n",
       ".dataframe > thead > tr,\n",
       ".dataframe > tbody > tr {\n",
       "  text-align: right;\n",
       "  white-space: pre-wrap;\n",
       "}\n",
       "</style>\n",
       "<small>shape: (4, 3)</small><table border=\"1\" class=\"dataframe\"><thead><tr><th>key_metric</th><th>ts</th><th>value</th></tr><tr><td>object</td><td>datetime[μs]</td><td>f64</td></tr></thead><tbody><tr><td>36c71979-943a-4544-a1db-50b3e60e5edd</td><td>2024-03-06 04:11:23.401954</td><td>6.659328</td></tr><tr><td>4ab57531-4dcf-4feb-be79-7b19c57b84f0</td><td>2024-03-06 04:12:10.970106</td><td>6.314359</td></tr><tr><td>d0819024-ab0d-4065-894d-8234e28a8ad3</td><td>2024-03-06 04:10:54.038954</td><td>3.161176</td></tr><tr><td>893b689c-a86d-489a-ad56-064372868099</td><td>2024-03-06 04:14:00.971219</td><td>6.658088</td></tr></tbody></table></div>"
      ],
      "text/plain": [
       "shape: (4, 3)\n",
       "┌───────────────────────────────────┬────────────────────────────┬──────────┐\n",
       "│ key_metric                        ┆ ts                         ┆ value    │\n",
       "│ ---                               ┆ ---                        ┆ ---      │\n",
       "│ object                            ┆ datetime[μs]               ┆ f64      │\n",
       "╞═══════════════════════════════════╪════════════════════════════╪══════════╡\n",
       "│ 36c71979-943a-4544-a1db-50b3e60e… ┆ 2024-03-06 04:11:23.401954 ┆ 6.659328 │\n",
       "│ 4ab57531-4dcf-4feb-be79-7b19c57b… ┆ 2024-03-06 04:12:10.970106 ┆ 6.314359 │\n",
       "│ d0819024-ab0d-4065-894d-8234e28a… ┆ 2024-03-06 04:10:54.038954 ┆ 3.161176 │\n",
       "│ 893b689c-a86d-489a-ad56-06437286… ┆ 2024-03-06 04:14:00.971219 ┆ 6.658088 │\n",
       "└───────────────────────────────────┴────────────────────────────┴──────────┘"
      ]
     },
     "execution_count": 18,
     "metadata": {},
     "output_type": "execute_result"
    }
   ],
   "source": [
    "time_until_esd = timeseries_df.filter(\n",
    "    pl.col(\"metric_nice_name\").str.contains(\"TimeUntilESD\")\n",
    ")\n",
    "values = map(lambda _: random.uniform(0.0, 7), range(time_until_esd.height))\n",
    "ts = map(\n",
    "    lambda _: now - timedelta(minutes=random.uniform(0, 5)),\n",
    "    range(time_until_esd.height),\n",
    ")\n",
    "values = pl.Series(\"value\", values)\n",
    "ts = pl.Series(\"ts\", ts)\n",
    "time_until_esd = time_until_esd.select(\"key_metric\", ts, values)\n",
    "time_until_esd"
   ]
  },
  {
   "cell_type": "code",
   "execution_count": 19,
   "metadata": {},
   "outputs": [],
   "source": [
    "new_timeseries_df = pl.concat(\n",
    "    [\n",
    "        time_until_esd,\n",
    "        tank_inches_to_esd,\n",
    "        tank_inches_until_alarm_df,\n",
    "        volume_df,\n",
    "        level_df,\n",
    "    ],\n",
    "    how=\"diagonal\",\n",
    ")"
   ]
  },
  {
   "cell_type": "code",
   "execution_count": 20,
   "metadata": {},
   "outputs": [
    {
     "data": {
      "text/html": [
       "<div><style>\n",
       ".dataframe > thead > tr,\n",
       ".dataframe > tbody > tr {\n",
       "  text-align: right;\n",
       "  white-space: pre-wrap;\n",
       "}\n",
       "</style>\n",
       "<small>shape: (66, 3)</small><table border=\"1\" class=\"dataframe\"><thead><tr><th>key_metric</th><th>ts</th><th>value</th></tr><tr><td>object</td><td>datetime[μs]</td><td>f64</td></tr></thead><tbody><tr><td>36c71979-943a-4544-a1db-50b3e60e5edd</td><td>2024-03-06 04:11:23.401954</td><td>6.659328</td></tr><tr><td>4ab57531-4dcf-4feb-be79-7b19c57b84f0</td><td>2024-03-06 04:12:10.970106</td><td>6.314359</td></tr><tr><td>d0819024-ab0d-4065-894d-8234e28a8ad3</td><td>2024-03-06 04:10:54.038954</td><td>3.161176</td></tr><tr><td>893b689c-a86d-489a-ad56-064372868099</td><td>2024-03-06 04:14:00.971219</td><td>6.658088</td></tr><tr><td>6467561f-e9ac-4ba0-ac6b-1f1584ee029f</td><td>2024-03-06 04:15:22.003985</td><td>25.078137</td></tr><tr><td>&hellip;</td><td>&hellip;</td><td>&hellip;</td></tr><tr><td>82a65210-f198-410a-8859-a5bfb5759677</td><td>2024-03-06 04:11:21.206990</td><td>83.739797</td></tr><tr><td>1ac3dc19-5a49-441a-92ed-64710d48b4f6</td><td>2024-03-06 04:12:34.255959</td><td>82.727023</td></tr><tr><td>c7105e6f-8a8e-4b3d-872d-ed2072f4a655</td><td>2024-03-06 04:12:44.646494</td><td>59.778672</td></tr><tr><td>766d3faf-54f8-4e24-90ee-b4f9155fdbca</td><td>2024-03-06 04:11:30.972475</td><td>77.158114</td></tr><tr><td>299d6f76-46e8-49bc-b523-673d70d83097</td><td>2024-03-06 04:12:19.965126</td><td>97.245231</td></tr></tbody></table></div>"
      ],
      "text/plain": [
       "shape: (66, 3)\n",
       "┌───────────────────────────────────┬────────────────────────────┬───────────┐\n",
       "│ key_metric                        ┆ ts                         ┆ value     │\n",
       "│ ---                               ┆ ---                        ┆ ---       │\n",
       "│ object                            ┆ datetime[μs]               ┆ f64       │\n",
       "╞═══════════════════════════════════╪════════════════════════════╪═══════════╡\n",
       "│ 36c71979-943a-4544-a1db-50b3e60e… ┆ 2024-03-06 04:11:23.401954 ┆ 6.659328  │\n",
       "│ 4ab57531-4dcf-4feb-be79-7b19c57b… ┆ 2024-03-06 04:12:10.970106 ┆ 6.314359  │\n",
       "│ d0819024-ab0d-4065-894d-8234e28a… ┆ 2024-03-06 04:10:54.038954 ┆ 3.161176  │\n",
       "│ 893b689c-a86d-489a-ad56-06437286… ┆ 2024-03-06 04:14:00.971219 ┆ 6.658088  │\n",
       "│ 6467561f-e9ac-4ba0-ac6b-1f1584ee… ┆ 2024-03-06 04:15:22.003985 ┆ 25.078137 │\n",
       "│ …                                 ┆ …                          ┆ …         │\n",
       "│ 82a65210-f198-410a-8859-a5bfb575… ┆ 2024-03-06 04:11:21.206990 ┆ 83.739797 │\n",
       "│ 1ac3dc19-5a49-441a-92ed-64710d48… ┆ 2024-03-06 04:12:34.255959 ┆ 82.727023 │\n",
       "│ c7105e6f-8a8e-4b3d-872d-ed2072f4… ┆ 2024-03-06 04:12:44.646494 ┆ 59.778672 │\n",
       "│ 766d3faf-54f8-4e24-90ee-b4f9155f… ┆ 2024-03-06 04:11:30.972475 ┆ 77.158114 │\n",
       "│ 299d6f76-46e8-49bc-b523-673d70d8… ┆ 2024-03-06 04:12:19.965126 ┆ 97.245231 │\n",
       "└───────────────────────────────────┴────────────────────────────┴───────────┘"
      ]
     },
     "execution_count": 20,
     "metadata": {},
     "output_type": "execute_result"
    }
   ],
   "source": [
    "new_timeseries_df = new_timeseries_df.select(\"key_metric\", \"ts\", \"value\")\n",
    "new_timeseries_df"
   ]
  },
  {
   "cell_type": "code",
   "execution_count": 21,
   "metadata": {},
   "outputs": [],
   "source": [
    "import perlin_noise\n",
    "\n",
    "faggot = perlin_noise.PerlinNoise()\n",
    "\n",
    "points_per_day = 24\n",
    "days = 2\n",
    "hours = points_per_day * days\n",
    "\n",
    "\n",
    "def create_ts_df_for_min(\n",
    "    initial_df: pl.DataFrame, hour: int, total_minutes: int\n",
    ") -> pl.DataFrame:\n",
    "    offset = timedelta(hours=hour)\n",
    "    noise = faggot.noise(hour / total_minutes)\n",
    "    return initial_df.with_columns(pl.col(\"ts\") - offset, pl.col(\"value\") + noise)\n",
    "\n",
    "\n",
    "noise_dfs = map(\n",
    "    lambda x: create_ts_df_for_min(new_timeseries_df, x, hours), range(hours)\n",
    ")\n",
    "noise_dfs = list(noise_dfs)"
   ]
  },
  {
   "cell_type": "code",
   "execution_count": 22,
   "metadata": {},
   "outputs": [
    {
     "data": {
      "text/plain": [
       "[shape: (66, 3)\n",
       " ┌───────────────────────────────────┬────────────────────────────┬───────────┐\n",
       " │ key_metric                        ┆ ts                         ┆ value     │\n",
       " │ ---                               ┆ ---                        ┆ ---       │\n",
       " │ object                            ┆ datetime[μs]               ┆ f64       │\n",
       " ╞═══════════════════════════════════╪════════════════════════════╪═══════════╡\n",
       " │ 36c71979-943a-4544-a1db-50b3e60e… ┆ 2024-03-06 04:11:23.401954 ┆ 6.659328  │\n",
       " │ 4ab57531-4dcf-4feb-be79-7b19c57b… ┆ 2024-03-06 04:12:10.970106 ┆ 6.314359  │\n",
       " │ d0819024-ab0d-4065-894d-8234e28a… ┆ 2024-03-06 04:10:54.038954 ┆ 3.161176  │\n",
       " │ 893b689c-a86d-489a-ad56-06437286… ┆ 2024-03-06 04:14:00.971219 ┆ 6.658088  │\n",
       " │ 6467561f-e9ac-4ba0-ac6b-1f1584ee… ┆ 2024-03-06 04:15:22.003985 ┆ 25.078137 │\n",
       " │ …                                 ┆ …                          ┆ …         │\n",
       " │ 82a65210-f198-410a-8859-a5bfb575… ┆ 2024-03-06 04:11:21.206990 ┆ 83.739797 │\n",
       " │ 1ac3dc19-5a49-441a-92ed-64710d48… ┆ 2024-03-06 04:12:34.255959 ┆ 82.727023 │\n",
       " │ c7105e6f-8a8e-4b3d-872d-ed2072f4… ┆ 2024-03-06 04:12:44.646494 ┆ 59.778672 │\n",
       " │ 766d3faf-54f8-4e24-90ee-b4f9155f… ┆ 2024-03-06 04:11:30.972475 ┆ 77.158114 │\n",
       " │ 299d6f76-46e8-49bc-b523-673d70d8… ┆ 2024-03-06 04:12:19.965126 ┆ 97.245231 │\n",
       " └───────────────────────────────────┴────────────────────────────┴───────────┘,\n",
       " shape: (4, 3)\n",
       " ┌───────────────────────────────────┬─────────────────────┬────────────┐\n",
       " │ key_metric                        ┆ ts                  ┆ value      │\n",
       " │ ---                               ┆ ---                 ┆ ---        │\n",
       " │ object                            ┆ datetime[μs]        ┆ f64        │\n",
       " ╞═══════════════════════════════════╪═════════════════════╪════════════╡\n",
       " │ 485dd9ce-55ea-4e34-b96f-21e413ab… ┆ 2023-11-07 09:00:00 ┆ 413.344118 │\n",
       " │ 9e41a2e8-78d5-4dd9-b63f-66fa4676… ┆ 2023-11-07 09:00:00 ┆ 406.099328 │\n",
       " │ 1a909c77-d910-4862-b7f4-0ae902c9… ┆ 2023-11-07 09:00:00 ┆ 410.476513 │\n",
       " │ 3ec25f10-df5b-433a-9aab-43c56d2a… ┆ 2023-11-07 09:00:00 ┆ 409.718222 │\n",
       " └───────────────────────────────────┴─────────────────────┴────────────┘,\n",
       " shape: (6, 3)\n",
       " ┌───────────────────────────────────┬─────────────────────┬───────┐\n",
       " │ key_metric                        ┆ ts                  ┆ value │\n",
       " │ ---                               ┆ ---                 ┆ ---   │\n",
       " │ object                            ┆ datetime[μs]        ┆ f64   │\n",
       " ╞═══════════════════════════════════╪═════════════════════╪═══════╡\n",
       " │ 7eb0b21d-a87f-4a27-8751-f7318db2… ┆ 2023-11-07 09:00:00 ┆ 2.0   │\n",
       " │ de925327-bbae-4c3d-b93c-c6509465… ┆ 2023-11-07 09:00:00 ┆ 1.0   │\n",
       " │ 2b9672ff-5a41-4954-bb31-174d434a… ┆ 2023-11-07 09:00:00 ┆ 2.0   │\n",
       " │ a08a596d-c3f1-462d-aecf-88abb45c… ┆ 2023-11-07 09:00:00 ┆ 2.0   │\n",
       " │ 91346655-25a8-4a44-a3ac-c8fc1445… ┆ 2023-11-07 09:00:00 ┆ 1.0   │\n",
       " │ bf404389-f86f-47fe-8eb6-aac06db9… ┆ 2023-11-07 09:00:00 ┆ 1.0   │\n",
       " └───────────────────────────────────┴─────────────────────┴───────┘]"
      ]
     },
     "execution_count": 22,
     "metadata": {},
     "output_type": "execute_result"
    }
   ],
   "source": [
    "all_dfs = [new_timeseries_df, capacity_df, ESD_id_lf]\n",
    "all_dfs"
   ]
  },
  {
   "cell_type": "code",
   "execution_count": 23,
   "metadata": {},
   "outputs": [],
   "source": [
    "all_df = pl.concat(all_dfs)\n",
    "await db.insert(all_df, \"sdm_dba.timeseries_data\")"
   ]
  },
  {
   "cell_type": "code",
   "execution_count": 24,
   "metadata": {},
   "outputs": [],
   "source": [
    "noise_df = pl.concat(noise_dfs)\n",
    "await db.insert(noise_df, \"sdm_dba.timeseries_data\")"
   ]
  }
 ],
 "metadata": {
  "kernelspec": {
   "display_name": "Python 3",
   "language": "python",
   "name": "python3"
  },
  "language_info": {
   "codemirror_mode": {
    "name": "ipython",
    "version": 3
   },
   "file_extension": ".py",
   "mimetype": "text/x-python",
   "name": "python",
   "nbconvert_exporter": "python",
   "pygments_lexer": "ipython3",
   "version": "3.12.2"
  }
 },
 "nbformat": 4,
 "nbformat_minor": 2
}
