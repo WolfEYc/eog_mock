{
 "cells": [
  {
   "cell_type": "code",
   "execution_count": 65,
   "metadata": {},
   "outputs": [
    {
     "data": {
      "text/html": [
       "<div><style>\n",
       ".dataframe > thead > tr,\n",
       ".dataframe > tbody > tr {\n",
       "  text-align: right;\n",
       "  white-space: pre-wrap;\n",
       "}\n",
       "</style>\n",
       "<small>shape: (86, 5)</small><table border=\"1\" class=\"dataframe\"><thead><tr><th>source_key</th><th>source_id</th><th>metric_nice_name</th><th>uom</th><th>division_id</th></tr><tr><td>str</td><td>i64</td><td>str</td><td>str</td><td>i64</td></tr></thead><tbody><tr><td>&quot;6941901&quot;</td><td>69419</td><td>&quot;OilTank1Level&quot;</td><td>&quot;in&quot;</td><td>10</td></tr><tr><td>&quot;6941902&quot;</td><td>69419</td><td>&quot;OilTank2Level&quot;</td><td>&quot;in&quot;</td><td>10</td></tr><tr><td>&quot;6941903&quot;</td><td>69419</td><td>&quot;OilTank3Level&quot;</td><td>&quot;in&quot;</td><td>10</td></tr><tr><td>&quot;6941903&quot;</td><td>69419</td><td>&quot;OilTank4Level&quot;</td><td>&quot;in&quot;</td><td>10</td></tr><tr><td>&quot;6941901&quot;</td><td>69419</td><td>&quot;OilTank1Volume…</td><td>&quot;bbl&quot;</td><td>10</td></tr><tr><td>&hellip;</td><td>&hellip;</td><td>&hellip;</td><td>&hellip;</td><td>&hellip;</td></tr><tr><td>&quot;110009W1&quot;</td><td>110009</td><td>&quot;WaterTank1Inch…</td><td>&quot;bbl&quot;</td><td>30</td></tr><tr><td>&quot;110009W2&quot;</td><td>110009</td><td>&quot;WaterTank2Leve…</td><td>&quot;in&quot;</td><td>30</td></tr><tr><td>&quot;110009W2&quot;</td><td>110009</td><td>&quot;WaterTank2Volu…</td><td>&quot;bbl&quot;</td><td>30</td></tr><tr><td>&quot;110009W2&quot;</td><td>110009</td><td>&quot;WaterTank2Time…</td><td>&quot;bbl&quot;</td><td>30</td></tr><tr><td>&quot;110009W2&quot;</td><td>110009</td><td>&quot;WaterTank2Inch…</td><td>&quot;bbl&quot;</td><td>30</td></tr></tbody></table></div>"
      ],
      "text/plain": [
       "shape: (86, 5)\n",
       "┌────────────┬───────────┬────────────────────────┬─────┬─────────────┐\n",
       "│ source_key ┆ source_id ┆ metric_nice_name       ┆ uom ┆ division_id │\n",
       "│ ---        ┆ ---       ┆ ---                    ┆ --- ┆ ---         │\n",
       "│ str        ┆ i64       ┆ str                    ┆ str ┆ i64         │\n",
       "╞════════════╪═══════════╪════════════════════════╪═════╪═════════════╡\n",
       "│ 6941901    ┆ 69419     ┆ OilTank1Level          ┆ in  ┆ 10          │\n",
       "│ 6941902    ┆ 69419     ┆ OilTank2Level          ┆ in  ┆ 10          │\n",
       "│ 6941903    ┆ 69419     ┆ OilTank3Level          ┆ in  ┆ 10          │\n",
       "│ 6941903    ┆ 69419     ┆ OilTank4Level          ┆ in  ┆ 10          │\n",
       "│ 6941901    ┆ 69419     ┆ OilTank1Volume         ┆ bbl ┆ 10          │\n",
       "│ …          ┆ …         ┆ …                      ┆ …   ┆ …           │\n",
       "│ 110009W1   ┆ 110009    ┆ WaterTank1InchesToESD  ┆ bbl ┆ 30          │\n",
       "│ 110009W2   ┆ 110009    ┆ WaterTank2Level        ┆ in  ┆ 30          │\n",
       "│ 110009W2   ┆ 110009    ┆ WaterTank2Volume       ┆ bbl ┆ 30          │\n",
       "│ 110009W2   ┆ 110009    ┆ WaterTank2TimeUntilESD ┆ bbl ┆ 30          │\n",
       "│ 110009W2   ┆ 110009    ┆ WaterTank2InchesToESD  ┆ bbl ┆ 30          │\n",
       "└────────────┴───────────┴────────────────────────┴─────┴─────────────┘"
      ]
     },
     "execution_count": 65,
     "metadata": {},
     "output_type": "execute_result"
    }
   ],
   "source": [
    "import polars as pl\n",
    "\n",
    "data_catalog_df = pl.read_csv(\"../mock_tables/sdm_data_catalog.csv\")\n",
    "data_catalog_df"
   ]
  },
  {
   "cell_type": "code",
   "execution_count": 66,
   "metadata": {},
   "outputs": [
    {
     "data": {
      "text/html": [
       "<div><style>\n",
       ".dataframe > thead > tr,\n",
       ".dataframe > tbody > tr {\n",
       "  text-align: right;\n",
       "  white-space: pre-wrap;\n",
       "}\n",
       "</style>\n",
       "<small>shape: (1, 5)</small><table border=\"1\" class=\"dataframe\"><thead><tr><th>source_key</th><th>source_id</th><th>metric_nice_name</th><th>uom</th><th>division_id</th></tr><tr><td>u32</td><td>u32</td><td>u32</td><td>u32</td><td>u32</td></tr></thead><tbody><tr><td>10</td><td>10</td><td>10</td><td>16</td><td>10</td></tr></tbody></table></div>"
      ],
      "text/plain": [
       "shape: (1, 5)\n",
       "┌────────────┬───────────┬──────────────────┬─────┬─────────────┐\n",
       "│ source_key ┆ source_id ┆ metric_nice_name ┆ uom ┆ division_id │\n",
       "│ ---        ┆ ---       ┆ ---              ┆ --- ┆ ---         │\n",
       "│ u32        ┆ u32       ┆ u32              ┆ u32 ┆ u32         │\n",
       "╞════════════╪═══════════╪══════════════════╪═════╪═════════════╡\n",
       "│ 10         ┆ 10        ┆ 10               ┆ 16  ┆ 10          │\n",
       "└────────────┴───────────┴──────────────────┴─────┴─────────────┘"
      ]
     },
     "execution_count": 66,
     "metadata": {},
     "output_type": "execute_result"
    }
   ],
   "source": [
    "data_catalog_df.null_count()"
   ]
  },
  {
   "cell_type": "code",
   "execution_count": 67,
   "metadata": {},
   "outputs": [
    {
     "data": {
      "text/html": [
       "<div><style>\n",
       ".dataframe > thead > tr,\n",
       ".dataframe > tbody > tr {\n",
       "  text-align: right;\n",
       "  white-space: pre-wrap;\n",
       "}\n",
       "</style>\n",
       "<small>shape: (1, 5)</small><table border=\"1\" class=\"dataframe\"><thead><tr><th>source_key</th><th>source_id</th><th>metric_nice_name</th><th>uom</th><th>division_id</th></tr><tr><td>u32</td><td>u32</td><td>u32</td><td>u32</td><td>u32</td></tr></thead><tbody><tr><td>0</td><td>0</td><td>0</td><td>6</td><td>0</td></tr></tbody></table></div>"
      ],
      "text/plain": [
       "shape: (1, 5)\n",
       "┌────────────┬───────────┬──────────────────┬─────┬─────────────┐\n",
       "│ source_key ┆ source_id ┆ metric_nice_name ┆ uom ┆ division_id │\n",
       "│ ---        ┆ ---       ┆ ---              ┆ --- ┆ ---         │\n",
       "│ u32        ┆ u32       ┆ u32              ┆ u32 ┆ u32         │\n",
       "╞════════════╪═══════════╪══════════════════╪═════╪═════════════╡\n",
       "│ 0          ┆ 0         ┆ 0                ┆ 6   ┆ 0           │\n",
       "└────────────┴───────────┴──────────────────┴─────┴─────────────┘"
      ]
     },
     "execution_count": 67,
     "metadata": {},
     "output_type": "execute_result"
    }
   ],
   "source": [
    "data_catalog_df = data_catalog_df.drop_nulls(subset=[\"source_id\"])\n",
    "data_catalog_df.null_count()"
   ]
  },
  {
   "cell_type": "code",
   "execution_count": 68,
   "metadata": {},
   "outputs": [],
   "source": [
    "from eog_mock.db import init_pg_pool\n",
    "\n",
    "await init_pg_pool()"
   ]
  },
  {
   "cell_type": "code",
   "execution_count": 69,
   "metadata": {},
   "outputs": [],
   "source": [
    "from eog_mock.db import db\n",
    "\n",
    "res = await db.insert(data_catalog_df, \"sdm_dba.data_catalog\")\n",
    "res"
   ]
  },
  {
   "cell_type": "code",
   "execution_count": 70,
   "metadata": {},
   "outputs": [
    {
     "data": {
      "text/html": [
       "<div><style>\n",
       ".dataframe > thead > tr,\n",
       ".dataframe > tbody > tr {\n",
       "  text-align: right;\n",
       "  white-space: pre-wrap;\n",
       "}\n",
       "</style>\n",
       "<small>shape: (76, 6)</small><table border=\"1\" class=\"dataframe\"><thead><tr><th>key_metric</th><th>source_key</th><th>source_id</th><th>metric_nice_name</th><th>uom</th><th>division_id</th></tr><tr><td>object</td><td>str</td><td>str</td><td>str</td><td>str</td><td>i64</td></tr></thead><tbody><tr><td>b17f11ac-d318-429a-b607-a5ba24b3d6a2</td><td>&quot;6941901&quot;</td><td>&quot;69419&quot;</td><td>&quot;OilTank1Level&quot;</td><td>&quot;in&quot;</td><td>10</td></tr><tr><td>d0613649-4688-445b-aca9-b83858a7476d</td><td>&quot;6941902&quot;</td><td>&quot;69419&quot;</td><td>&quot;OilTank2Level&quot;</td><td>&quot;in&quot;</td><td>10</td></tr><tr><td>a5de3be7-73fe-489b-b861-2ab88c3b0029</td><td>&quot;6941903&quot;</td><td>&quot;69419&quot;</td><td>&quot;OilTank3Level&quot;</td><td>&quot;in&quot;</td><td>10</td></tr><tr><td>9f31b503-6a7b-4203-ba81-c63efb0170ae</td><td>&quot;6941903&quot;</td><td>&quot;69419&quot;</td><td>&quot;OilTank4Level&quot;</td><td>&quot;in&quot;</td><td>10</td></tr><tr><td>4ac0b7d9-55fe-4865-bc29-6c202ff6349e</td><td>&quot;6941901&quot;</td><td>&quot;69419&quot;</td><td>&quot;OilTank1Volume…</td><td>&quot;bbl&quot;</td><td>10</td></tr><tr><td>&hellip;</td><td>&hellip;</td><td>&hellip;</td><td>&hellip;</td><td>&hellip;</td><td>&hellip;</td></tr><tr><td>299d6f76-46e8-49bc-b523-673d70d83097</td><td>&quot;110009W2&quot;</td><td>&quot;110009&quot;</td><td>&quot;WaterTank2Leve…</td><td>&quot;in&quot;</td><td>30</td></tr><tr><td>028aa180-e62d-4079-9b7b-8020a093c4cb</td><td>&quot;110009W2&quot;</td><td>&quot;110009&quot;</td><td>&quot;WaterTank2Volu…</td><td>&quot;bbl&quot;</td><td>30</td></tr><tr><td>19ac5155-212e-4848-8385-c75bb90fe624</td><td>&quot;110009W2&quot;</td><td>&quot;110009&quot;</td><td>&quot;WaterTank2Inch…</td><td>&quot;bbl&quot;</td><td>30</td></tr><tr><td>d0819024-ab0d-4065-894d-8234e28a8ad3</td><td>&quot;110009W2&quot;</td><td>&quot;110009&quot;</td><td>&quot;WaterTank2Time…</td><td>&quot;days&quot;</td><td>30</td></tr><tr><td>893b689c-a86d-489a-ad56-064372868099</td><td>&quot;110009W1&quot;</td><td>&quot;110009&quot;</td><td>&quot;WaterTank1Time…</td><td>&quot;days&quot;</td><td>30</td></tr></tbody></table></div>"
      ],
      "text/plain": [
       "shape: (76, 6)\n",
       "┌───────────────────────────┬────────────┬───────────┬────────────────────────┬──────┬─────────────┐\n",
       "│ key_metric                ┆ source_key ┆ source_id ┆ metric_nice_name       ┆ uom  ┆ division_id │\n",
       "│ ---                       ┆ ---        ┆ ---       ┆ ---                    ┆ ---  ┆ ---         │\n",
       "│ object                    ┆ str        ┆ str       ┆ str                    ┆ str  ┆ i64         │\n",
       "╞═══════════════════════════╪════════════╪═══════════╪════════════════════════╪══════╪═════════════╡\n",
       "│ b17f11ac-d318-429a-b607-a ┆ 6941901    ┆ 69419     ┆ OilTank1Level          ┆ in   ┆ 10          │\n",
       "│ 5ba24b3…                  ┆            ┆           ┆                        ┆      ┆             │\n",
       "│ d0613649-4688-445b-aca9-b ┆ 6941902    ┆ 69419     ┆ OilTank2Level          ┆ in   ┆ 10          │\n",
       "│ 83858a7…                  ┆            ┆           ┆                        ┆      ┆             │\n",
       "│ a5de3be7-73fe-489b-b861-2 ┆ 6941903    ┆ 69419     ┆ OilTank3Level          ┆ in   ┆ 10          │\n",
       "│ ab88c3b…                  ┆            ┆           ┆                        ┆      ┆             │\n",
       "│ 9f31b503-6a7b-4203-ba81-c ┆ 6941903    ┆ 69419     ┆ OilTank4Level          ┆ in   ┆ 10          │\n",
       "│ 63efb01…                  ┆            ┆           ┆                        ┆      ┆             │\n",
       "│ 4ac0b7d9-55fe-4865-bc29-6 ┆ 6941901    ┆ 69419     ┆ OilTank1Volume         ┆ bbl  ┆ 10          │\n",
       "│ c202ff6…                  ┆            ┆           ┆                        ┆      ┆             │\n",
       "│ …                         ┆ …          ┆ …         ┆ …                      ┆ …    ┆ …           │\n",
       "│ 299d6f76-46e8-49bc-b523-6 ┆ 110009W2   ┆ 110009    ┆ WaterTank2Level        ┆ in   ┆ 30          │\n",
       "│ 73d70d8…                  ┆            ┆           ┆                        ┆      ┆             │\n",
       "│ 028aa180-e62d-4079-9b7b-8 ┆ 110009W2   ┆ 110009    ┆ WaterTank2Volume       ┆ bbl  ┆ 30          │\n",
       "│ 020a093…                  ┆            ┆           ┆                        ┆      ┆             │\n",
       "│ 19ac5155-212e-4848-8385-c ┆ 110009W2   ┆ 110009    ┆ WaterTank2InchesToESD  ┆ bbl  ┆ 30          │\n",
       "│ 75bb90f…                  ┆            ┆           ┆                        ┆      ┆             │\n",
       "│ d0819024-ab0d-4065-894d-8 ┆ 110009W2   ┆ 110009    ┆ WaterTank2TimeUntilESD ┆ days ┆ 30          │\n",
       "│ 234e28a…                  ┆            ┆           ┆                        ┆      ┆             │\n",
       "│ 893b689c-a86d-489a-ad56-0 ┆ 110009W1   ┆ 110009    ┆ WaterTank1TimeUntilESD ┆ days ┆ 30          │\n",
       "│ 6437286…                  ┆            ┆           ┆                        ┆      ┆             │\n",
       "└───────────────────────────┴────────────┴───────────┴────────────────────────┴──────┴─────────────┘"
      ]
     },
     "execution_count": 70,
     "metadata": {},
     "output_type": "execute_result"
    }
   ],
   "source": [
    "timeseries_df = await db.fetch(\"SELECT * FROM sdm_dba.data_catalog\")\n",
    "timeseries_df"
   ]
  },
  {
   "cell_type": "code",
   "execution_count": 71,
   "metadata": {},
   "outputs": [
    {
     "data": {
      "text/html": [
       "<div><style>\n",
       ".dataframe > thead > tr,\n",
       ".dataframe > tbody > tr {\n",
       "  text-align: right;\n",
       "  white-space: pre-wrap;\n",
       "}\n",
       "</style>\n",
       "<small>shape: (76, 4)</small><table border=\"1\" class=\"dataframe\"><thead><tr><th>key_metric</th><th>metric_nice_name</th><th>uom</th><th>division_id</th></tr><tr><td>object</td><td>str</td><td>str</td><td>i64</td></tr></thead><tbody><tr><td>b17f11ac-d318-429a-b607-a5ba24b3d6a2</td><td>&quot;OilTank1Level&quot;</td><td>&quot;in&quot;</td><td>10</td></tr><tr><td>d0613649-4688-445b-aca9-b83858a7476d</td><td>&quot;OilTank2Level&quot;</td><td>&quot;in&quot;</td><td>10</td></tr><tr><td>a5de3be7-73fe-489b-b861-2ab88c3b0029</td><td>&quot;OilTank3Level&quot;</td><td>&quot;in&quot;</td><td>10</td></tr><tr><td>9f31b503-6a7b-4203-ba81-c63efb0170ae</td><td>&quot;OilTank4Level&quot;</td><td>&quot;in&quot;</td><td>10</td></tr><tr><td>4ac0b7d9-55fe-4865-bc29-6c202ff6349e</td><td>&quot;OilTank1Volume…</td><td>&quot;bbl&quot;</td><td>10</td></tr><tr><td>&hellip;</td><td>&hellip;</td><td>&hellip;</td><td>&hellip;</td></tr><tr><td>299d6f76-46e8-49bc-b523-673d70d83097</td><td>&quot;WaterTank2Leve…</td><td>&quot;in&quot;</td><td>30</td></tr><tr><td>028aa180-e62d-4079-9b7b-8020a093c4cb</td><td>&quot;WaterTank2Volu…</td><td>&quot;bbl&quot;</td><td>30</td></tr><tr><td>19ac5155-212e-4848-8385-c75bb90fe624</td><td>&quot;WaterTank2Inch…</td><td>&quot;bbl&quot;</td><td>30</td></tr><tr><td>d0819024-ab0d-4065-894d-8234e28a8ad3</td><td>&quot;WaterTank2Time…</td><td>&quot;days&quot;</td><td>30</td></tr><tr><td>893b689c-a86d-489a-ad56-064372868099</td><td>&quot;WaterTank1Time…</td><td>&quot;days&quot;</td><td>30</td></tr></tbody></table></div>"
      ],
      "text/plain": [
       "shape: (76, 4)\n",
       "┌───────────────────────────────────┬────────────────────────┬──────┬─────────────┐\n",
       "│ key_metric                        ┆ metric_nice_name       ┆ uom  ┆ division_id │\n",
       "│ ---                               ┆ ---                    ┆ ---  ┆ ---         │\n",
       "│ object                            ┆ str                    ┆ str  ┆ i64         │\n",
       "╞═══════════════════════════════════╪════════════════════════╪══════╪═════════════╡\n",
       "│ b17f11ac-d318-429a-b607-a5ba24b3… ┆ OilTank1Level          ┆ in   ┆ 10          │\n",
       "│ d0613649-4688-445b-aca9-b83858a7… ┆ OilTank2Level          ┆ in   ┆ 10          │\n",
       "│ a5de3be7-73fe-489b-b861-2ab88c3b… ┆ OilTank3Level          ┆ in   ┆ 10          │\n",
       "│ 9f31b503-6a7b-4203-ba81-c63efb01… ┆ OilTank4Level          ┆ in   ┆ 10          │\n",
       "│ 4ac0b7d9-55fe-4865-bc29-6c202ff6… ┆ OilTank1Volume         ┆ bbl  ┆ 10          │\n",
       "│ …                                 ┆ …                      ┆ …    ┆ …           │\n",
       "│ 299d6f76-46e8-49bc-b523-673d70d8… ┆ WaterTank2Level        ┆ in   ┆ 30          │\n",
       "│ 028aa180-e62d-4079-9b7b-8020a093… ┆ WaterTank2Volume       ┆ bbl  ┆ 30          │\n",
       "│ 19ac5155-212e-4848-8385-c75bb90f… ┆ WaterTank2InchesToESD  ┆ bbl  ┆ 30          │\n",
       "│ d0819024-ab0d-4065-894d-8234e28a… ┆ WaterTank2TimeUntilESD ┆ days ┆ 30          │\n",
       "│ 893b689c-a86d-489a-ad56-06437286… ┆ WaterTank1TimeUntilESD ┆ days ┆ 30          │\n",
       "└───────────────────────────────────┴────────────────────────┴──────┴─────────────┘"
      ]
     },
     "execution_count": 71,
     "metadata": {},
     "output_type": "execute_result"
    }
   ],
   "source": [
    "if timeseries_df is None:\n",
    "    raise ValueError(\"No data found\")\n",
    "\n",
    "timeseries_df = timeseries_df.drop(\"source_id\", \"source_key\")\n",
    "timeseries_df"
   ]
  },
  {
   "cell_type": "code",
   "execution_count": 72,
   "metadata": {},
   "outputs": [
    {
     "data": {
      "text/html": [
       "<div><style>\n",
       ".dataframe > thead > tr,\n",
       ".dataframe > tbody > tr {\n",
       "  text-align: right;\n",
       "  white-space: pre-wrap;\n",
       "}\n",
       "</style>\n",
       "<small>shape: (4, 4)</small><table border=\"1\" class=\"dataframe\"><thead><tr><th>key_metric</th><th>metric_nice_name</th><th>uom</th><th>division_id</th></tr><tr><td>object</td><td>str</td><td>str</td><td>i64</td></tr></thead><tbody><tr><td>485dd9ce-55ea-4e34-b96f-21e413ab8a71</td><td>&quot;OilTank1Capaci…</td><td>&quot;bbl&quot;</td><td>14</td></tr><tr><td>9e41a2e8-78d5-4dd9-b63f-66fa4676dcfb</td><td>&quot;OilTank2Capaci…</td><td>&quot;bbl&quot;</td><td>14</td></tr><tr><td>1a909c77-d910-4862-b7f4-0ae902c9cbab</td><td>&quot;WaterTank1Capa…</td><td>&quot;bbl&quot;</td><td>14</td></tr><tr><td>3ec25f10-df5b-433a-9aab-43c56d2a6057</td><td>&quot;WaterTank2Capa…</td><td>&quot;bbl&quot;</td><td>14</td></tr></tbody></table></div>"
      ],
      "text/plain": [
       "shape: (4, 4)\n",
       "┌───────────────────────────────────┬────────────────────┬─────┬─────────────┐\n",
       "│ key_metric                        ┆ metric_nice_name   ┆ uom ┆ division_id │\n",
       "│ ---                               ┆ ---                ┆ --- ┆ ---         │\n",
       "│ object                            ┆ str                ┆ str ┆ i64         │\n",
       "╞═══════════════════════════════════╪════════════════════╪═════╪═════════════╡\n",
       "│ 485dd9ce-55ea-4e34-b96f-21e413ab… ┆ OilTank1Capacity   ┆ bbl ┆ 14          │\n",
       "│ 9e41a2e8-78d5-4dd9-b63f-66fa4676… ┆ OilTank2Capacity   ┆ bbl ┆ 14          │\n",
       "│ 1a909c77-d910-4862-b7f4-0ae902c9… ┆ WaterTank1Capacity ┆ bbl ┆ 14          │\n",
       "│ 3ec25f10-df5b-433a-9aab-43c56d2a… ┆ WaterTank2Capacity ┆ bbl ┆ 14          │\n",
       "└───────────────────────────────────┴────────────────────┴─────┴─────────────┘"
      ]
     },
     "execution_count": 72,
     "metadata": {},
     "output_type": "execute_result"
    }
   ],
   "source": [
    "capacity_df = timeseries_df.filter(pl.col(\"metric_nice_name\").str.contains(\"Capacity\"))\n",
    "capacity_df"
   ]
  },
  {
   "cell_type": "code",
   "execution_count": 73,
   "metadata": {},
   "outputs": [
    {
     "data": {
      "text/html": [
       "<div><style>\n",
       ".dataframe > thead > tr,\n",
       ".dataframe > tbody > tr {\n",
       "  text-align: right;\n",
       "  white-space: pre-wrap;\n",
       "}\n",
       "</style>\n",
       "<small>shape: (4, 5)</small><table border=\"1\" class=\"dataframe\"><thead><tr><th>key_metric</th><th>metric_nice_name</th><th>uom</th><th>division_id</th><th>ts</th></tr><tr><td>object</td><td>str</td><td>str</td><td>i64</td><td>datetime[μs]</td></tr></thead><tbody><tr><td>485dd9ce-55ea-4e34-b96f-21e413ab8a71</td><td>&quot;OilTank1Capaci…</td><td>&quot;bbl&quot;</td><td>14</td><td>2023-11-07 09:00:00</td></tr><tr><td>9e41a2e8-78d5-4dd9-b63f-66fa4676dcfb</td><td>&quot;OilTank2Capaci…</td><td>&quot;bbl&quot;</td><td>14</td><td>2023-11-07 09:00:00</td></tr><tr><td>1a909c77-d910-4862-b7f4-0ae902c9cbab</td><td>&quot;WaterTank1Capa…</td><td>&quot;bbl&quot;</td><td>14</td><td>2023-11-07 09:00:00</td></tr><tr><td>3ec25f10-df5b-433a-9aab-43c56d2a6057</td><td>&quot;WaterTank2Capa…</td><td>&quot;bbl&quot;</td><td>14</td><td>2023-11-07 09:00:00</td></tr></tbody></table></div>"
      ],
      "text/plain": [
       "shape: (4, 5)\n",
       "┌───────────────────────────────────┬────────────────────┬─────┬─────────────┬─────────────────────┐\n",
       "│ key_metric                        ┆ metric_nice_name   ┆ uom ┆ division_id ┆ ts                  │\n",
       "│ ---                               ┆ ---                ┆ --- ┆ ---         ┆ ---                 │\n",
       "│ object                            ┆ str                ┆ str ┆ i64         ┆ datetime[μs]        │\n",
       "╞═══════════════════════════════════╪════════════════════╪═════╪═════════════╪═════════════════════╡\n",
       "│ 485dd9ce-55ea-4e34-b96f-21e413ab… ┆ OilTank1Capacity   ┆ bbl ┆ 14          ┆ 2023-11-07 09:00:00 │\n",
       "│ 9e41a2e8-78d5-4dd9-b63f-66fa4676… ┆ OilTank2Capacity   ┆ bbl ┆ 14          ┆ 2023-11-07 09:00:00 │\n",
       "│ 1a909c77-d910-4862-b7f4-0ae902c9… ┆ WaterTank1Capacity ┆ bbl ┆ 14          ┆ 2023-11-07 09:00:00 │\n",
       "│ 3ec25f10-df5b-433a-9aab-43c56d2a… ┆ WaterTank2Capacity ┆ bbl ┆ 14          ┆ 2023-11-07 09:00:00 │\n",
       "└───────────────────────────────────┴────────────────────┴─────┴─────────────┴─────────────────────┘"
      ]
     },
     "execution_count": 73,
     "metadata": {},
     "output_type": "execute_result"
    }
   ],
   "source": [
    "nov_7 = pl.datetime(year=2023, month=11, day=7, hour=9, minute=0, second=0)\n",
    "capacity_df = capacity_df.with_columns(nov_7.alias(\"ts\"))\n",
    "capacity_df"
   ]
  },
  {
   "cell_type": "code",
   "execution_count": 74,
   "metadata": {},
   "outputs": [
    {
     "data": {
      "text/html": [
       "<div><style>\n",
       ".dataframe > thead > tr,\n",
       ".dataframe > tbody > tr {\n",
       "  text-align: right;\n",
       "  white-space: pre-wrap;\n",
       "}\n",
       "</style>\n",
       "<small>shape: (4, 6)</small><table border=\"1\" class=\"dataframe\"><thead><tr><th>key_metric</th><th>metric_nice_name</th><th>uom</th><th>division_id</th><th>ts</th><th>value</th></tr><tr><td>object</td><td>str</td><td>str</td><td>i64</td><td>datetime[μs]</td><td>f64</td></tr></thead><tbody><tr><td>485dd9ce-55ea-4e34-b96f-21e413ab8a71</td><td>&quot;OilTank1Capaci…</td><td>&quot;bbl&quot;</td><td>14</td><td>2023-11-07 09:00:00</td><td>406.056751</td></tr><tr><td>9e41a2e8-78d5-4dd9-b63f-66fa4676dcfb</td><td>&quot;OilTank2Capaci…</td><td>&quot;bbl&quot;</td><td>14</td><td>2023-11-07 09:00:00</td><td>411.670254</td></tr><tr><td>1a909c77-d910-4862-b7f4-0ae902c9cbab</td><td>&quot;WaterTank1Capa…</td><td>&quot;bbl&quot;</td><td>14</td><td>2023-11-07 09:00:00</td><td>405.121436</td></tr><tr><td>3ec25f10-df5b-433a-9aab-43c56d2a6057</td><td>&quot;WaterTank2Capa…</td><td>&quot;bbl&quot;</td><td>14</td><td>2023-11-07 09:00:00</td><td>411.308083</td></tr></tbody></table></div>"
      ],
      "text/plain": [
       "shape: (4, 6)\n",
       "┌──────────────────────┬────────────────────┬─────┬─────────────┬─────────────────────┬────────────┐\n",
       "│ key_metric           ┆ metric_nice_name   ┆ uom ┆ division_id ┆ ts                  ┆ value      │\n",
       "│ ---                  ┆ ---                ┆ --- ┆ ---         ┆ ---                 ┆ ---        │\n",
       "│ object               ┆ str                ┆ str ┆ i64         ┆ datetime[μs]        ┆ f64        │\n",
       "╞══════════════════════╪════════════════════╪═════╪═════════════╪═════════════════════╪════════════╡\n",
       "│ 485dd9ce-55ea-4e34-b ┆ OilTank1Capacity   ┆ bbl ┆ 14          ┆ 2023-11-07 09:00:00 ┆ 406.056751 │\n",
       "│ 96f-21e413ab…        ┆                    ┆     ┆             ┆                     ┆            │\n",
       "│ 9e41a2e8-78d5-4dd9-b ┆ OilTank2Capacity   ┆ bbl ┆ 14          ┆ 2023-11-07 09:00:00 ┆ 411.670254 │\n",
       "│ 63f-66fa4676…        ┆                    ┆     ┆             ┆                     ┆            │\n",
       "│ 1a909c77-d910-4862-b ┆ WaterTank1Capacity ┆ bbl ┆ 14          ┆ 2023-11-07 09:00:00 ┆ 405.121436 │\n",
       "│ 7f4-0ae902c9…        ┆                    ┆     ┆             ┆                     ┆            │\n",
       "│ 3ec25f10-df5b-433a-9 ┆ WaterTank2Capacity ┆ bbl ┆ 14          ┆ 2023-11-07 09:00:00 ┆ 411.308083 │\n",
       "│ aab-43c56d2a…        ┆                    ┆     ┆             ┆                     ┆            │\n",
       "└──────────────────────┴────────────────────┴─────┴─────────────┴─────────────────────┴────────────┘"
      ]
     },
     "execution_count": 74,
     "metadata": {},
     "output_type": "execute_result"
    }
   ],
   "source": [
    "import random\n",
    "\n",
    "values = map(lambda _: random.uniform(400.0, 416.0), range(capacity_df.height))\n",
    "values = pl.Series(\"value\", values)\n",
    "capacity_df = capacity_df.with_columns(values)\n",
    "capacity_df"
   ]
  },
  {
   "cell_type": "code",
   "execution_count": 75,
   "metadata": {},
   "outputs": [
    {
     "data": {
      "text/html": [
       "<div><style>\n",
       ".dataframe > thead > tr,\n",
       ".dataframe > tbody > tr {\n",
       "  text-align: right;\n",
       "  white-space: pre-wrap;\n",
       "}\n",
       "</style>\n",
       "<small>shape: (25, 4)</small><table border=\"1\" class=\"dataframe\"><thead><tr><th>key_metric</th><th>metric_nice_name</th><th>uom</th><th>division_id</th></tr><tr><td>object</td><td>str</td><td>str</td><td>i64</td></tr></thead><tbody><tr><td>b17f11ac-d318-429a-b607-a5ba24b3d6a2</td><td>&quot;OilTank1Level&quot;</td><td>&quot;in&quot;</td><td>10</td></tr><tr><td>d0613649-4688-445b-aca9-b83858a7476d</td><td>&quot;OilTank2Level&quot;</td><td>&quot;in&quot;</td><td>10</td></tr><tr><td>a5de3be7-73fe-489b-b861-2ab88c3b0029</td><td>&quot;OilTank3Level&quot;</td><td>&quot;in&quot;</td><td>10</td></tr><tr><td>9f31b503-6a7b-4203-ba81-c63efb0170ae</td><td>&quot;OilTank4Level&quot;</td><td>&quot;in&quot;</td><td>10</td></tr><tr><td>aecb01ea-c950-4f6e-8477-f422c224c430</td><td>&quot;WaterTank1Leve…</td><td>&quot;in&quot;</td><td>10</td></tr><tr><td>&hellip;</td><td>&hellip;</td><td>&hellip;</td><td>&hellip;</td></tr><tr><td>82a65210-f198-410a-8859-a5bfb5759677</td><td>&quot;WaterTank2Leve…</td><td>&quot;in&quot;</td><td>14</td></tr><tr><td>1ac3dc19-5a49-441a-92ed-64710d48b4f6</td><td>&quot;OilTank1Level&quot;</td><td>&quot;in&quot;</td><td>30</td></tr><tr><td>c7105e6f-8a8e-4b3d-872d-ed2072f4a655</td><td>&quot;OilTank2Level&quot;</td><td>&quot;in&quot;</td><td>30</td></tr><tr><td>766d3faf-54f8-4e24-90ee-b4f9155fdbca</td><td>&quot;WaterTank1Leve…</td><td>&quot;in&quot;</td><td>30</td></tr><tr><td>299d6f76-46e8-49bc-b523-673d70d83097</td><td>&quot;WaterTank2Leve…</td><td>&quot;in&quot;</td><td>30</td></tr></tbody></table></div>"
      ],
      "text/plain": [
       "shape: (25, 4)\n",
       "┌───────────────────────────────────┬──────────────────┬─────┬─────────────┐\n",
       "│ key_metric                        ┆ metric_nice_name ┆ uom ┆ division_id │\n",
       "│ ---                               ┆ ---              ┆ --- ┆ ---         │\n",
       "│ object                            ┆ str              ┆ str ┆ i64         │\n",
       "╞═══════════════════════════════════╪══════════════════╪═════╪═════════════╡\n",
       "│ b17f11ac-d318-429a-b607-a5ba24b3… ┆ OilTank1Level    ┆ in  ┆ 10          │\n",
       "│ d0613649-4688-445b-aca9-b83858a7… ┆ OilTank2Level    ┆ in  ┆ 10          │\n",
       "│ a5de3be7-73fe-489b-b861-2ab88c3b… ┆ OilTank3Level    ┆ in  ┆ 10          │\n",
       "│ 9f31b503-6a7b-4203-ba81-c63efb01… ┆ OilTank4Level    ┆ in  ┆ 10          │\n",
       "│ aecb01ea-c950-4f6e-8477-f422c224… ┆ WaterTank1Level  ┆ in  ┆ 10          │\n",
       "│ …                                 ┆ …                ┆ …   ┆ …           │\n",
       "│ 82a65210-f198-410a-8859-a5bfb575… ┆ WaterTank2Level  ┆ in  ┆ 14          │\n",
       "│ 1ac3dc19-5a49-441a-92ed-64710d48… ┆ OilTank1Level    ┆ in  ┆ 30          │\n",
       "│ c7105e6f-8a8e-4b3d-872d-ed2072f4… ┆ OilTank2Level    ┆ in  ┆ 30          │\n",
       "│ 766d3faf-54f8-4e24-90ee-b4f9155f… ┆ WaterTank1Level  ┆ in  ┆ 30          │\n",
       "│ 299d6f76-46e8-49bc-b523-673d70d8… ┆ WaterTank2Level  ┆ in  ┆ 30          │\n",
       "└───────────────────────────────────┴──────────────────┴─────┴─────────────┘"
      ]
     },
     "execution_count": 75,
     "metadata": {},
     "output_type": "execute_result"
    }
   ],
   "source": [
    "level_df = timeseries_df.filter(pl.col(\"metric_nice_name\").str.contains(\"Level\"))\n",
    "level_df"
   ]
  },
  {
   "cell_type": "code",
   "execution_count": 76,
   "metadata": {},
   "outputs": [
    {
     "name": "stderr",
     "output_type": "stream",
     "text": [
      "/tmp/ipykernel_148874/1944652013.py:3: DeprecationWarning: datetime.datetime.utcnow() is deprecated and scheduled for removal in a future version. Use timezone-aware objects to represent datetimes in UTC: datetime.datetime.now(datetime.UTC).\n",
      "  now = datetime.utcnow()\n"
     ]
    },
    {
     "data": {
      "text/html": [
       "<div><style>\n",
       ".dataframe > thead > tr,\n",
       ".dataframe > tbody > tr {\n",
       "  text-align: right;\n",
       "  white-space: pre-wrap;\n",
       "}\n",
       "</style>\n",
       "<small>shape: (25, 5)</small><table border=\"1\" class=\"dataframe\"><thead><tr><th>key_metric</th><th>metric_nice_name</th><th>uom</th><th>division_id</th><th>ts</th></tr><tr><td>object</td><td>str</td><td>str</td><td>i64</td><td>datetime[μs]</td></tr></thead><tbody><tr><td>b17f11ac-d318-429a-b607-a5ba24b3d6a2</td><td>&quot;OilTank1Level&quot;</td><td>&quot;in&quot;</td><td>10</td><td>2024-03-04 04:10:53.098836</td></tr><tr><td>d0613649-4688-445b-aca9-b83858a7476d</td><td>&quot;OilTank2Level&quot;</td><td>&quot;in&quot;</td><td>10</td><td>2024-03-04 04:07:45.711547</td></tr><tr><td>a5de3be7-73fe-489b-b861-2ab88c3b0029</td><td>&quot;OilTank3Level&quot;</td><td>&quot;in&quot;</td><td>10</td><td>2024-03-04 04:07:49.154794</td></tr><tr><td>9f31b503-6a7b-4203-ba81-c63efb0170ae</td><td>&quot;OilTank4Level&quot;</td><td>&quot;in&quot;</td><td>10</td><td>2024-03-04 04:11:51.410051</td></tr><tr><td>aecb01ea-c950-4f6e-8477-f422c224c430</td><td>&quot;WaterTank1Leve…</td><td>&quot;in&quot;</td><td>10</td><td>2024-03-04 04:09:45.594191</td></tr><tr><td>&hellip;</td><td>&hellip;</td><td>&hellip;</td><td>&hellip;</td><td>&hellip;</td></tr><tr><td>82a65210-f198-410a-8859-a5bfb5759677</td><td>&quot;WaterTank2Leve…</td><td>&quot;in&quot;</td><td>14</td><td>2024-03-04 04:09:22.785165</td></tr><tr><td>1ac3dc19-5a49-441a-92ed-64710d48b4f6</td><td>&quot;OilTank1Level&quot;</td><td>&quot;in&quot;</td><td>30</td><td>2024-03-04 04:08:52.914235</td></tr><tr><td>c7105e6f-8a8e-4b3d-872d-ed2072f4a655</td><td>&quot;OilTank2Level&quot;</td><td>&quot;in&quot;</td><td>30</td><td>2024-03-04 04:09:12.623145</td></tr><tr><td>766d3faf-54f8-4e24-90ee-b4f9155fdbca</td><td>&quot;WaterTank1Leve…</td><td>&quot;in&quot;</td><td>30</td><td>2024-03-04 04:11:00.189274</td></tr><tr><td>299d6f76-46e8-49bc-b523-673d70d83097</td><td>&quot;WaterTank2Leve…</td><td>&quot;in&quot;</td><td>30</td><td>2024-03-04 04:09:59.536485</td></tr></tbody></table></div>"
      ],
      "text/plain": [
       "shape: (25, 5)\n",
       "┌──────────────────────────────┬──────────────────┬─────┬─────────────┬────────────────────────────┐\n",
       "│ key_metric                   ┆ metric_nice_name ┆ uom ┆ division_id ┆ ts                         │\n",
       "│ ---                          ┆ ---              ┆ --- ┆ ---         ┆ ---                        │\n",
       "│ object                       ┆ str              ┆ str ┆ i64         ┆ datetime[μs]               │\n",
       "╞══════════════════════════════╪══════════════════╪═════╪═════════════╪════════════════════════════╡\n",
       "│ b17f11ac-d318-429a-b607-a5ba ┆ OilTank1Level    ┆ in  ┆ 10          ┆ 2024-03-04 04:10:53.098836 │\n",
       "│ 24b3…                        ┆                  ┆     ┆             ┆                            │\n",
       "│ d0613649-4688-445b-aca9-b838 ┆ OilTank2Level    ┆ in  ┆ 10          ┆ 2024-03-04 04:07:45.711547 │\n",
       "│ 58a7…                        ┆                  ┆     ┆             ┆                            │\n",
       "│ a5de3be7-73fe-489b-b861-2ab8 ┆ OilTank3Level    ┆ in  ┆ 10          ┆ 2024-03-04 04:07:49.154794 │\n",
       "│ 8c3b…                        ┆                  ┆     ┆             ┆                            │\n",
       "│ 9f31b503-6a7b-4203-ba81-c63e ┆ OilTank4Level    ┆ in  ┆ 10          ┆ 2024-03-04 04:11:51.410051 │\n",
       "│ fb01…                        ┆                  ┆     ┆             ┆                            │\n",
       "│ aecb01ea-c950-4f6e-8477-f422 ┆ WaterTank1Level  ┆ in  ┆ 10          ┆ 2024-03-04 04:09:45.594191 │\n",
       "│ c224…                        ┆                  ┆     ┆             ┆                            │\n",
       "│ …                            ┆ …                ┆ …   ┆ …           ┆ …                          │\n",
       "│ 82a65210-f198-410a-8859-a5bf ┆ WaterTank2Level  ┆ in  ┆ 14          ┆ 2024-03-04 04:09:22.785165 │\n",
       "│ b575…                        ┆                  ┆     ┆             ┆                            │\n",
       "│ 1ac3dc19-5a49-441a-92ed-6471 ┆ OilTank1Level    ┆ in  ┆ 30          ┆ 2024-03-04 04:08:52.914235 │\n",
       "│ 0d48…                        ┆                  ┆     ┆             ┆                            │\n",
       "│ c7105e6f-8a8e-4b3d-872d-ed20 ┆ OilTank2Level    ┆ in  ┆ 30          ┆ 2024-03-04 04:09:12.623145 │\n",
       "│ 72f4…                        ┆                  ┆     ┆             ┆                            │\n",
       "│ 766d3faf-54f8-4e24-90ee-b4f9 ┆ WaterTank1Level  ┆ in  ┆ 30          ┆ 2024-03-04 04:11:00.189274 │\n",
       "│ 155f…                        ┆                  ┆     ┆             ┆                            │\n",
       "│ 299d6f76-46e8-49bc-b523-673d ┆ WaterTank2Level  ┆ in  ┆ 30          ┆ 2024-03-04 04:09:59.536485 │\n",
       "│ 70d8…                        ┆                  ┆     ┆             ┆                            │\n",
       "└──────────────────────────────┴──────────────────┴─────┴─────────────┴────────────────────────────┘"
      ]
     },
     "execution_count": 76,
     "metadata": {},
     "output_type": "execute_result"
    }
   ],
   "source": [
    "from datetime import datetime, timedelta\n",
    "\n",
    "now = datetime.utcnow()\n",
    "ts = map(\n",
    "    lambda _: now - timedelta(minutes=random.uniform(0, 5)), range(level_df.height)\n",
    ")\n",
    "ts = pl.Series(\"ts\", ts)\n",
    "level_df = level_df.with_columns(ts)\n",
    "level_df"
   ]
  },
  {
   "cell_type": "code",
   "execution_count": 77,
   "metadata": {},
   "outputs": [
    {
     "data": {
      "text/html": [
       "<div><style>\n",
       ".dataframe > thead > tr,\n",
       ".dataframe > tbody > tr {\n",
       "  text-align: right;\n",
       "  white-space: pre-wrap;\n",
       "}\n",
       "</style>\n",
       "<small>shape: (25, 6)</small><table border=\"1\" class=\"dataframe\"><thead><tr><th>key_metric</th><th>metric_nice_name</th><th>uom</th><th>division_id</th><th>ts</th><th>value</th></tr><tr><td>object</td><td>str</td><td>str</td><td>i64</td><td>datetime[μs]</td><td>f64</td></tr></thead><tbody><tr><td>b17f11ac-d318-429a-b607-a5ba24b3d6a2</td><td>&quot;OilTank1Level&quot;</td><td>&quot;in&quot;</td><td>10</td><td>2024-03-04 04:10:53.098836</td><td>47.336522</td></tr><tr><td>d0613649-4688-445b-aca9-b83858a7476d</td><td>&quot;OilTank2Level&quot;</td><td>&quot;in&quot;</td><td>10</td><td>2024-03-04 04:07:45.711547</td><td>136.332262</td></tr><tr><td>a5de3be7-73fe-489b-b861-2ab88c3b0029</td><td>&quot;OilTank3Level&quot;</td><td>&quot;in&quot;</td><td>10</td><td>2024-03-04 04:07:49.154794</td><td>86.908161</td></tr><tr><td>9f31b503-6a7b-4203-ba81-c63efb0170ae</td><td>&quot;OilTank4Level&quot;</td><td>&quot;in&quot;</td><td>10</td><td>2024-03-04 04:11:51.410051</td><td>74.312628</td></tr><tr><td>aecb01ea-c950-4f6e-8477-f422c224c430</td><td>&quot;WaterTank1Leve…</td><td>&quot;in&quot;</td><td>10</td><td>2024-03-04 04:09:45.594191</td><td>42.558887</td></tr><tr><td>&hellip;</td><td>&hellip;</td><td>&hellip;</td><td>&hellip;</td><td>&hellip;</td><td>&hellip;</td></tr><tr><td>82a65210-f198-410a-8859-a5bfb5759677</td><td>&quot;WaterTank2Leve…</td><td>&quot;in&quot;</td><td>14</td><td>2024-03-04 04:09:22.785165</td><td>96.221786</td></tr><tr><td>1ac3dc19-5a49-441a-92ed-64710d48b4f6</td><td>&quot;OilTank1Level&quot;</td><td>&quot;in&quot;</td><td>30</td><td>2024-03-04 04:08:52.914235</td><td>95.402697</td></tr><tr><td>c7105e6f-8a8e-4b3d-872d-ed2072f4a655</td><td>&quot;OilTank2Level&quot;</td><td>&quot;in&quot;</td><td>30</td><td>2024-03-04 04:09:12.623145</td><td>68.511375</td></tr><tr><td>766d3faf-54f8-4e24-90ee-b4f9155fdbca</td><td>&quot;WaterTank1Leve…</td><td>&quot;in&quot;</td><td>30</td><td>2024-03-04 04:11:00.189274</td><td>8.860801</td></tr><tr><td>299d6f76-46e8-49bc-b523-673d70d83097</td><td>&quot;WaterTank2Leve…</td><td>&quot;in&quot;</td><td>30</td><td>2024-03-04 04:09:59.536485</td><td>71.580054</td></tr></tbody></table></div>"
      ],
      "text/plain": [
       "shape: (25, 6)\n",
       "┌────────────────────────────┬──────────────────┬─────┬─────────────┬─────────────────┬────────────┐\n",
       "│ key_metric                 ┆ metric_nice_name ┆ uom ┆ division_id ┆ ts              ┆ value      │\n",
       "│ ---                        ┆ ---              ┆ --- ┆ ---         ┆ ---             ┆ ---        │\n",
       "│ object                     ┆ str              ┆ str ┆ i64         ┆ datetime[μs]    ┆ f64        │\n",
       "╞════════════════════════════╪══════════════════╪═════╪═════════════╪═════════════════╪════════════╡\n",
       "│ b17f11ac-d318-429a-b607-a5 ┆ OilTank1Level    ┆ in  ┆ 10          ┆ 2024-03-04      ┆ 47.336522  │\n",
       "│ ba24b3…                    ┆                  ┆     ┆             ┆ 04:10:53.098836 ┆            │\n",
       "│ d0613649-4688-445b-aca9-b8 ┆ OilTank2Level    ┆ in  ┆ 10          ┆ 2024-03-04      ┆ 136.332262 │\n",
       "│ 3858a7…                    ┆                  ┆     ┆             ┆ 04:07:45.711547 ┆            │\n",
       "│ a5de3be7-73fe-489b-b861-2a ┆ OilTank3Level    ┆ in  ┆ 10          ┆ 2024-03-04      ┆ 86.908161  │\n",
       "│ b88c3b…                    ┆                  ┆     ┆             ┆ 04:07:49.154794 ┆            │\n",
       "│ 9f31b503-6a7b-4203-ba81-c6 ┆ OilTank4Level    ┆ in  ┆ 10          ┆ 2024-03-04      ┆ 74.312628  │\n",
       "│ 3efb01…                    ┆                  ┆     ┆             ┆ 04:11:51.410051 ┆            │\n",
       "│ aecb01ea-c950-4f6e-8477-f4 ┆ WaterTank1Level  ┆ in  ┆ 10          ┆ 2024-03-04      ┆ 42.558887  │\n",
       "│ 22c224…                    ┆                  ┆     ┆             ┆ 04:09:45.594191 ┆            │\n",
       "│ …                          ┆ …                ┆ …   ┆ …           ┆ …               ┆ …          │\n",
       "│ 82a65210-f198-410a-8859-a5 ┆ WaterTank2Level  ┆ in  ┆ 14          ┆ 2024-03-04      ┆ 96.221786  │\n",
       "│ bfb575…                    ┆                  ┆     ┆             ┆ 04:09:22.785165 ┆            │\n",
       "│ 1ac3dc19-5a49-441a-92ed-64 ┆ OilTank1Level    ┆ in  ┆ 30          ┆ 2024-03-04      ┆ 95.402697  │\n",
       "│ 710d48…                    ┆                  ┆     ┆             ┆ 04:08:52.914235 ┆            │\n",
       "│ c7105e6f-8a8e-4b3d-872d-ed ┆ OilTank2Level    ┆ in  ┆ 30          ┆ 2024-03-04      ┆ 68.511375  │\n",
       "│ 2072f4…                    ┆                  ┆     ┆             ┆ 04:09:12.623145 ┆            │\n",
       "│ 766d3faf-54f8-4e24-90ee-b4 ┆ WaterTank1Level  ┆ in  ┆ 30          ┆ 2024-03-04      ┆ 8.860801   │\n",
       "│ f9155f…                    ┆                  ┆     ┆             ┆ 04:11:00.189274 ┆            │\n",
       "│ 299d6f76-46e8-49bc-b523-67 ┆ WaterTank2Level  ┆ in  ┆ 30          ┆ 2024-03-04      ┆ 71.580054  │\n",
       "│ 3d70d8…                    ┆                  ┆     ┆             ┆ 04:09:59.536485 ┆            │\n",
       "└────────────────────────────┴──────────────────┴─────┴─────────────┴─────────────────┴────────────┘"
      ]
     },
     "execution_count": 77,
     "metadata": {},
     "output_type": "execute_result"
    }
   ],
   "source": [
    "level_values = map(lambda _: random.uniform(0.0, 144.0), range(level_df.height))\n",
    "level_values = pl.Series(\"value\", level_values)\n",
    "level_df = level_df.with_columns(level_values)\n",
    "level_df"
   ]
  },
  {
   "cell_type": "code",
   "execution_count": 78,
   "metadata": {},
   "outputs": [
    {
     "data": {
      "text/html": [
       "<div><style>\n",
       ".dataframe > thead > tr,\n",
       ".dataframe > tbody > tr {\n",
       "  text-align: right;\n",
       "  white-space: pre-wrap;\n",
       "}\n",
       "</style>\n",
       "<small>shape: (25, 6)</small><table border=\"1\" class=\"dataframe\"><thead><tr><th>key_metric</th><th>metric_nice_name</th><th>uom</th><th>division_id</th><th>ts</th><th>value</th></tr><tr><td>object</td><td>str</td><td>str</td><td>i64</td><td>datetime[μs]</td><td>f64</td></tr></thead><tbody><tr><td>4ac0b7d9-55fe-4865-bc29-6c202ff6349e</td><td>&quot;OilTank1Volume…</td><td>&quot;bbl&quot;</td><td>10</td><td>2024-03-04 04:10:53.098836</td><td>131.490338</td></tr><tr><td>a99b4283-d21f-4840-b1ae-d91a55011b27</td><td>&quot;OilTank2Volume…</td><td>&quot;bbl&quot;</td><td>10</td><td>2024-03-04 04:07:45.711547</td><td>378.700727</td></tr><tr><td>c2650a39-a755-4855-976b-e3f712197666</td><td>&quot;OilTank3Volume…</td><td>&quot;bbl&quot;</td><td>10</td><td>2024-03-04 04:07:49.154794</td><td>241.41156</td></tr><tr><td>0c7822d0-97c0-4b75-b3f3-b8b17c2dabd5</td><td>&quot;OilTank4Volume…</td><td>&quot;bbl&quot;</td><td>10</td><td>2024-03-04 04:11:51.410051</td><td>206.423968</td></tr><tr><td>0f7f1002-a4d6-4707-a01b-c9c6bf440f34</td><td>&quot;WaterTank1Volu…</td><td>&quot;bbl&quot;</td><td>10</td><td>2024-03-04 04:09:45.594191</td><td>118.219132</td></tr><tr><td>&hellip;</td><td>&hellip;</td><td>&hellip;</td><td>&hellip;</td><td>&hellip;</td><td>&hellip;</td></tr><tr><td>393a9fd5-866d-45d9-98f2-3145da3eab20</td><td>&quot;WaterTank2Volu…</td><td>&quot;bbl&quot;</td><td>14</td><td>2024-03-04 04:09:22.785165</td><td>267.282739</td></tr><tr><td>d6589a9f-f49b-4304-afcb-909c6cf38ba2</td><td>&quot;OilTank1Volume…</td><td>&quot;bbl&quot;</td><td>30</td><td>2024-03-04 04:08:52.914235</td><td>265.007491</td></tr><tr><td>ec846e9e-1741-4044-8382-a7e1ec4ef4fb</td><td>&quot;OilTank2Volume…</td><td>&quot;bbl&quot;</td><td>30</td><td>2024-03-04 04:09:12.623145</td><td>190.309374</td></tr><tr><td>00df10ed-9159-4b71-b564-0cb0b14dfa07</td><td>&quot;WaterTank1Volu…</td><td>&quot;bbl&quot;</td><td>30</td><td>2024-03-04 04:11:00.189274</td><td>24.613336</td></tr><tr><td>028aa180-e62d-4079-9b7b-8020a093c4cb</td><td>&quot;WaterTank2Volu…</td><td>&quot;bbl&quot;</td><td>30</td><td>2024-03-04 04:09:59.536485</td><td>198.833483</td></tr></tbody></table></div>"
      ],
      "text/plain": [
       "shape: (25, 6)\n",
       "┌────────────────────────────┬──────────────────┬─────┬─────────────┬─────────────────┬────────────┐\n",
       "│ key_metric                 ┆ metric_nice_name ┆ uom ┆ division_id ┆ ts              ┆ value      │\n",
       "│ ---                        ┆ ---              ┆ --- ┆ ---         ┆ ---             ┆ ---        │\n",
       "│ object                     ┆ str              ┆ str ┆ i64         ┆ datetime[μs]    ┆ f64        │\n",
       "╞════════════════════════════╪══════════════════╪═════╪═════════════╪═════════════════╪════════════╡\n",
       "│ 4ac0b7d9-55fe-4865-bc29-6c ┆ OilTank1Volume   ┆ bbl ┆ 10          ┆ 2024-03-04      ┆ 131.490338 │\n",
       "│ 202ff6…                    ┆                  ┆     ┆             ┆ 04:10:53.098836 ┆            │\n",
       "│ a99b4283-d21f-4840-b1ae-d9 ┆ OilTank2Volume   ┆ bbl ┆ 10          ┆ 2024-03-04      ┆ 378.700727 │\n",
       "│ 1a5501…                    ┆                  ┆     ┆             ┆ 04:07:45.711547 ┆            │\n",
       "│ c2650a39-a755-4855-976b-e3 ┆ OilTank3Volume   ┆ bbl ┆ 10          ┆ 2024-03-04      ┆ 241.41156  │\n",
       "│ f71219…                    ┆                  ┆     ┆             ┆ 04:07:49.154794 ┆            │\n",
       "│ 0c7822d0-97c0-4b75-b3f3-b8 ┆ OilTank4Volume   ┆ bbl ┆ 10          ┆ 2024-03-04      ┆ 206.423968 │\n",
       "│ b17c2d…                    ┆                  ┆     ┆             ┆ 04:11:51.410051 ┆            │\n",
       "│ 0f7f1002-a4d6-4707-a01b-c9 ┆ WaterTank1Volume ┆ bbl ┆ 10          ┆ 2024-03-04      ┆ 118.219132 │\n",
       "│ c6bf44…                    ┆                  ┆     ┆             ┆ 04:09:45.594191 ┆            │\n",
       "│ …                          ┆ …                ┆ …   ┆ …           ┆ …               ┆ …          │\n",
       "│ 393a9fd5-866d-45d9-98f2-31 ┆ WaterTank2Volume ┆ bbl ┆ 14          ┆ 2024-03-04      ┆ 267.282739 │\n",
       "│ 45da3e…                    ┆                  ┆     ┆             ┆ 04:09:22.785165 ┆            │\n",
       "│ d6589a9f-f49b-4304-afcb-90 ┆ OilTank1Volume   ┆ bbl ┆ 30          ┆ 2024-03-04      ┆ 265.007491 │\n",
       "│ 9c6cf3…                    ┆                  ┆     ┆             ┆ 04:08:52.914235 ┆            │\n",
       "│ ec846e9e-1741-4044-8382-a7 ┆ OilTank2Volume   ┆ bbl ┆ 30          ┆ 2024-03-04      ┆ 190.309374 │\n",
       "│ e1ec4e…                    ┆                  ┆     ┆             ┆ 04:09:12.623145 ┆            │\n",
       "│ 00df10ed-9159-4b71-b564-0c ┆ WaterTank1Volume ┆ bbl ┆ 30          ┆ 2024-03-04      ┆ 24.613336  │\n",
       "│ b0b14d…                    ┆                  ┆     ┆             ┆ 04:11:00.189274 ┆            │\n",
       "│ 028aa180-e62d-4079-9b7b-80 ┆ WaterTank2Volume ┆ bbl ┆ 30          ┆ 2024-03-04      ┆ 198.833483 │\n",
       "│ 20a093…                    ┆                  ┆     ┆             ┆ 04:09:59.536485 ┆            │\n",
       "└────────────────────────────┴──────────────────┴─────┴─────────────┴─────────────────┴────────────┘"
      ]
     },
     "execution_count": 78,
     "metadata": {},
     "output_type": "execute_result"
    }
   ],
   "source": [
    "volume_df = timeseries_df.filter(pl.col(\"metric_nice_name\").str.contains(\"Volume\"))\n",
    "\n",
    "volume_df_from_level_df = level_df.select(\"ts\", \"value\").with_columns(\n",
    "    pl.col(\"value\") * 2.777777778\n",
    ")\n",
    "volume_df = volume_df.with_columns(volume_df_from_level_df)\n",
    "volume_df"
   ]
  },
  {
   "cell_type": "code",
   "execution_count": 79,
   "metadata": {},
   "outputs": [
    {
     "data": {
      "text/html": [
       "<div><style>\n",
       ".dataframe > thead > tr,\n",
       ".dataframe > tbody > tr {\n",
       "  text-align: right;\n",
       "  white-space: pre-wrap;\n",
       "}\n",
       "</style>\n",
       "<small>shape: (6, 6)</small><table border=\"1\" class=\"dataframe\"><thead><tr><th>key_metric</th><th>metric_nice_name</th><th>uom</th><th>division_id</th><th>value</th><th>ts</th></tr><tr><td>object</td><td>str</td><td>str</td><td>i64</td><td>f64</td><td>datetime[μs]</td></tr></thead><tbody><tr><td>7eb0b21d-a87f-4a27-8751-f7318db2fdc8</td><td>&quot;ESD-OilTankID&quot;</td><td>null</td><td>63</td><td>2.0</td><td>2023-11-07 09:00:00</td></tr><tr><td>de925327-bbae-4c3d-b93c-c65094656a58</td><td>&quot;ESD-WaterTankI…</td><td>null</td><td>63</td><td>2.0</td><td>2023-11-07 09:00:00</td></tr><tr><td>2b9672ff-5a41-4954-bb31-174d434ae296</td><td>&quot;ESD-OilTankID&quot;</td><td>null</td><td>63</td><td>2.0</td><td>2023-11-07 09:00:00</td></tr><tr><td>a08a596d-c3f1-462d-aecf-88abb45cabc1</td><td>&quot;ESD-WaterTankI…</td><td>null</td><td>63</td><td>2.0</td><td>2023-11-07 09:00:00</td></tr><tr><td>91346655-25a8-4a44-a3ac-c8fc14457107</td><td>&quot;ESD-OilTankID&quot;</td><td>null</td><td>14</td><td>2.0</td><td>2023-11-07 09:00:00</td></tr><tr><td>bf404389-f86f-47fe-8eb6-aac06db9bd77</td><td>&quot;ESD-WaterTankI…</td><td>null</td><td>14</td><td>1.0</td><td>2023-11-07 09:00:00</td></tr></tbody></table></div>"
      ],
      "text/plain": [
       "shape: (6, 6)\n",
       "┌────────────────────────────┬──────────────────┬──────┬─────────────┬───────┬─────────────────────┐\n",
       "│ key_metric                 ┆ metric_nice_name ┆ uom  ┆ division_id ┆ value ┆ ts                  │\n",
       "│ ---                        ┆ ---              ┆ ---  ┆ ---         ┆ ---   ┆ ---                 │\n",
       "│ object                     ┆ str              ┆ str  ┆ i64         ┆ f64   ┆ datetime[μs]        │\n",
       "╞════════════════════════════╪══════════════════╪══════╪═════════════╪═══════╪═════════════════════╡\n",
       "│ 7eb0b21d-a87f-4a27-8751-f7 ┆ ESD-OilTankID    ┆ null ┆ 63          ┆ 2.0   ┆ 2023-11-07 09:00:00 │\n",
       "│ 318db2…                    ┆                  ┆      ┆             ┆       ┆                     │\n",
       "│ de925327-bbae-4c3d-b93c-c6 ┆ ESD-WaterTankID  ┆ null ┆ 63          ┆ 2.0   ┆ 2023-11-07 09:00:00 │\n",
       "│ 509465…                    ┆                  ┆      ┆             ┆       ┆                     │\n",
       "│ 2b9672ff-5a41-4954-bb31-17 ┆ ESD-OilTankID    ┆ null ┆ 63          ┆ 2.0   ┆ 2023-11-07 09:00:00 │\n",
       "│ 4d434a…                    ┆                  ┆      ┆             ┆       ┆                     │\n",
       "│ a08a596d-c3f1-462d-aecf-88 ┆ ESD-WaterTankID  ┆ null ┆ 63          ┆ 2.0   ┆ 2023-11-07 09:00:00 │\n",
       "│ abb45c…                    ┆                  ┆      ┆             ┆       ┆                     │\n",
       "│ 91346655-25a8-4a44-a3ac-c8 ┆ ESD-OilTankID    ┆ null ┆ 14          ┆ 2.0   ┆ 2023-11-07 09:00:00 │\n",
       "│ fc1445…                    ┆                  ┆      ┆             ┆       ┆                     │\n",
       "│ bf404389-f86f-47fe-8eb6-aa ┆ ESD-WaterTankID  ┆ null ┆ 14          ┆ 1.0   ┆ 2023-11-07 09:00:00 │\n",
       "│ c06db9…                    ┆                  ┆      ┆             ┆       ┆                     │\n",
       "└────────────────────────────┴──────────────────┴──────┴─────────────┴───────┴─────────────────────┘"
      ]
     },
     "execution_count": 79,
     "metadata": {},
     "output_type": "execute_result"
    }
   ],
   "source": [
    "ESD_id_lf = timeseries_df.filter(pl.col(\"metric_nice_name\").str.contains(\"ID\"))\n",
    "ESD_id_values = map(lambda _: random.randint(1, 2), range(ESD_id_lf.height))\n",
    "ESD_id_values = pl.Series(\"value\", ESD_id_values, pl.Float64)\n",
    "ESD_id_lf = ESD_id_lf.with_columns(ESD_id_values, nov_7.alias(\"ts\"))\n",
    "ESD_id_lf"
   ]
  },
  {
   "cell_type": "code",
   "execution_count": 80,
   "metadata": {},
   "outputs": [
    {
     "data": {
      "text/html": [
       "<div><style>\n",
       ".dataframe > thead > tr,\n",
       ".dataframe > tbody > tr {\n",
       "  text-align: right;\n",
       "  white-space: pre-wrap;\n",
       "}\n",
       "</style>\n",
       "<small>shape: (6, 6)</small><table border=\"1\" class=\"dataframe\"><thead><tr><th>key_metric</th><th>metric_nice_name</th><th>uom</th><th>division_id</th><th>value</th><th>ts</th></tr><tr><td>object</td><td>str</td><td>str</td><td>i64</td><td>f64</td><td>datetime[μs]</td></tr></thead><tbody><tr><td>6d884ea0-cc9a-49a4-a73a-037eef3d2d14</td><td>&quot;ESD-OilTankInc…</td><td>&quot;in&quot;</td><td>63</td><td>302.112394</td><td>2024-03-04 04:10:19.715309</td></tr><tr><td>2099e404-65fb-45a7-a0f7-d61611ef4b2c</td><td>&quot;ESD-WaterTankI…</td><td>&quot;in&quot;</td><td>63</td><td>399.560397</td><td>2024-03-04 04:10:29.696576</td></tr><tr><td>6b88202e-6d09-43cf-a6fa-62c6e731ff0c</td><td>&quot;ESD-OilTankInc…</td><td>&quot;in&quot;</td><td>63</td><td>396.343473</td><td>2024-03-04 04:11:17.125775</td></tr><tr><td>1ea07e70-08a4-4039-9e63-f3c720492664</td><td>&quot;ESD-WaterTankI…</td><td>&quot;in&quot;</td><td>63</td><td>250.789625</td><td>2024-03-04 04:08:07.840406</td></tr><tr><td>0a5456a7-80da-44cd-b191-130a0a579c33</td><td>&quot;ESD-OilTankInc…</td><td>&quot;in&quot;</td><td>14</td><td>86.868919</td><td>2024-03-04 04:08:50.933346</td></tr><tr><td>456ae0e3-e1ef-49b2-8da0-bd4b0a846d40</td><td>&quot;ESD-WaterTankI…</td><td>&quot;in&quot;</td><td>14</td><td>152.16646</td><td>2024-03-04 04:07:26.930523</td></tr></tbody></table></div>"
      ],
      "text/plain": [
       "shape: (6, 6)\n",
       "┌───────────────────────┬───────────────────────┬─────┬─────────────┬────────────┬─────────────────┐\n",
       "│ key_metric            ┆ metric_nice_name      ┆ uom ┆ division_id ┆ value      ┆ ts              │\n",
       "│ ---                   ┆ ---                   ┆ --- ┆ ---         ┆ ---        ┆ ---             │\n",
       "│ object                ┆ str                   ┆ str ┆ i64         ┆ f64        ┆ datetime[μs]    │\n",
       "╞═══════════════════════╪═══════════════════════╪═════╪═════════════╪════════════╪═════════════════╡\n",
       "│ 6d884ea0-cc9a-49a4-a7 ┆ ESD-OilTankInchesUnti ┆ in  ┆ 63          ┆ 302.112394 ┆ 2024-03-04      │\n",
       "│ 3a-037eef3d…          ┆ lAlarm                ┆     ┆             ┆            ┆ 04:10:19.715309 │\n",
       "│ 2099e404-65fb-45a7-a0 ┆ ESD-WaterTankInchesUn ┆ in  ┆ 63          ┆ 399.560397 ┆ 2024-03-04      │\n",
       "│ f7-d61611ef…          ┆ tilAlarm              ┆     ┆             ┆            ┆ 04:10:29.696576 │\n",
       "│ 6b88202e-6d09-43cf-a6 ┆ ESD-OilTankInchesUnti ┆ in  ┆ 63          ┆ 396.343473 ┆ 2024-03-04      │\n",
       "│ fa-62c6e731…          ┆ lAlarm                ┆     ┆             ┆            ┆ 04:11:17.125775 │\n",
       "│ 1ea07e70-08a4-4039-9e ┆ ESD-WaterTankInchesUn ┆ in  ┆ 63          ┆ 250.789625 ┆ 2024-03-04      │\n",
       "│ 63-f3c72049…          ┆ tilAlarm              ┆     ┆             ┆            ┆ 04:08:07.840406 │\n",
       "│ 0a5456a7-80da-44cd-b1 ┆ ESD-OilTankInchesUnti ┆ in  ┆ 14          ┆ 86.868919  ┆ 2024-03-04      │\n",
       "│ 91-130a0a57…          ┆ lAlarm                ┆     ┆             ┆            ┆ 04:08:50.933346 │\n",
       "│ 456ae0e3-e1ef-49b2-8d ┆ ESD-WaterTankInchesUn ┆ in  ┆ 14          ┆ 152.16646  ┆ 2024-03-04      │\n",
       "│ a0-bd4b0a84…          ┆ tilAlarm              ┆     ┆             ┆            ┆ 04:07:26.930523 │\n",
       "└───────────────────────┴───────────────────────┴─────┴─────────────┴────────────┴─────────────────┘"
      ]
     },
     "execution_count": 80,
     "metadata": {},
     "output_type": "execute_result"
    }
   ],
   "source": [
    "tank_inches_until_alarm_df = timeseries_df.filter(\n",
    "    pl.col(\"metric_nice_name\").str.contains(\"TankInchesUntilAlarm\")\n",
    ")\n",
    "values = map(\n",
    "    lambda _: random.uniform(0.0, 400), range(tank_inches_until_alarm_df.height)\n",
    ")\n",
    "ts = map(\n",
    "    lambda _: now - timedelta(minutes=random.uniform(0, 5)),\n",
    "    range(tank_inches_until_alarm_df.height),\n",
    ")\n",
    "values = pl.Series(\"value\", values)\n",
    "ts = pl.Series(\"ts\", ts)\n",
    "tank_inches_until_alarm_df = tank_inches_until_alarm_df.with_columns(values, ts)\n",
    "tank_inches_until_alarm_df"
   ]
  },
  {
   "cell_type": "code",
   "execution_count": 81,
   "metadata": {},
   "outputs": [
    {
     "data": {
      "text/html": [
       "<div><style>\n",
       ".dataframe > thead > tr,\n",
       ".dataframe > tbody > tr {\n",
       "  text-align: right;\n",
       "  white-space: pre-wrap;\n",
       "}\n",
       "</style>\n",
       "<small>shape: (6, 6)</small><table border=\"1\" class=\"dataframe\"><thead><tr><th>key_metric</th><th>metric_nice_name</th><th>uom</th><th>division_id</th><th>value</th><th>ts</th></tr><tr><td>object</td><td>str</td><td>str</td><td>i64</td><td>f64</td><td>datetime[μs]</td></tr></thead><tbody><tr><td>6467561f-e9ac-4ba0-ac6b-1f1584ee029f</td><td>&quot;OilTank2Inches…</td><td>&quot;in&quot;</td><td>10</td><td>16.939264</td><td>2024-03-04 04:08:02.303741</td></tr><tr><td>f10fb018-82a9-48aa-acf1-18c770f8569a</td><td>&quot;WaterTank2Inch…</td><td>&quot;in&quot;</td><td>10</td><td>155.809739</td><td>2024-03-04 04:10:02.334749</td></tr><tr><td>eee558fb-cedd-4842-9f78-0b8f421a0148</td><td>&quot;OilTank1Inches…</td><td>&quot;in&quot;</td><td>30</td><td>135.014386</td><td>2024-03-04 04:07:04.993538</td></tr><tr><td>7692e6fa-507a-4636-bd73-af3d4a49bdd1</td><td>&quot;OilTank2Inches…</td><td>&quot;in&quot;</td><td>30</td><td>266.425035</td><td>2024-03-04 04:09:07.262418</td></tr><tr><td>9cffc87d-020a-4b08-b696-181cf2c17dd3</td><td>&quot;WaterTank1Inch…</td><td>&quot;bbl&quot;</td><td>30</td><td>36.365393</td><td>2024-03-04 04:07:59.820478</td></tr><tr><td>19ac5155-212e-4848-8385-c75bb90fe624</td><td>&quot;WaterTank2Inch…</td><td>&quot;bbl&quot;</td><td>30</td><td>219.775441</td><td>2024-03-04 04:07:26.363683</td></tr></tbody></table></div>"
      ],
      "text/plain": [
       "shape: (6, 6)\n",
       "┌───────────────────────┬───────────────────────┬─────┬─────────────┬────────────┬─────────────────┐\n",
       "│ key_metric            ┆ metric_nice_name      ┆ uom ┆ division_id ┆ value      ┆ ts              │\n",
       "│ ---                   ┆ ---                   ┆ --- ┆ ---         ┆ ---        ┆ ---             │\n",
       "│ object                ┆ str                   ┆ str ┆ i64         ┆ f64        ┆ datetime[μs]    │\n",
       "╞═══════════════════════╪═══════════════════════╪═════╪═════════════╪════════════╪═════════════════╡\n",
       "│ 6467561f-e9ac-4ba0-ac ┆ OilTank2InchesToESD   ┆ in  ┆ 10          ┆ 16.939264  ┆ 2024-03-04      │\n",
       "│ 6b-1f1584ee…          ┆                       ┆     ┆             ┆            ┆ 04:08:02.303741 │\n",
       "│ f10fb018-82a9-48aa-ac ┆ WaterTank2InchesToESD ┆ in  ┆ 10          ┆ 155.809739 ┆ 2024-03-04      │\n",
       "│ f1-18c770f8…          ┆                       ┆     ┆             ┆            ┆ 04:10:02.334749 │\n",
       "│ eee558fb-cedd-4842-9f ┆ OilTank1InchesToESD   ┆ in  ┆ 30          ┆ 135.014386 ┆ 2024-03-04      │\n",
       "│ 78-0b8f421a…          ┆                       ┆     ┆             ┆            ┆ 04:07:04.993538 │\n",
       "│ 7692e6fa-507a-4636-bd ┆ OilTank2InchesToESD   ┆ in  ┆ 30          ┆ 266.425035 ┆ 2024-03-04      │\n",
       "│ 73-af3d4a49…          ┆                       ┆     ┆             ┆            ┆ 04:09:07.262418 │\n",
       "│ 9cffc87d-020a-4b08-b6 ┆ WaterTank1InchesToESD ┆ bbl ┆ 30          ┆ 36.365393  ┆ 2024-03-04      │\n",
       "│ 96-181cf2c1…          ┆                       ┆     ┆             ┆            ┆ 04:07:59.820478 │\n",
       "│ 19ac5155-212e-4848-83 ┆ WaterTank2InchesToESD ┆ bbl ┆ 30          ┆ 219.775441 ┆ 2024-03-04      │\n",
       "│ 85-c75bb90f…          ┆                       ┆     ┆             ┆            ┆ 04:07:26.363683 │\n",
       "└───────────────────────┴───────────────────────┴─────┴─────────────┴────────────┴─────────────────┘"
      ]
     },
     "execution_count": 81,
     "metadata": {},
     "output_type": "execute_result"
    }
   ],
   "source": [
    "tank_inches_to_esd = timeseries_df.filter(\n",
    "    pl.col(\"metric_nice_name\").str.contains(\"InchesToESD\")\n",
    ")\n",
    "values = map(lambda _: random.uniform(0.0, 400), range(tank_inches_to_esd.height))\n",
    "ts = map(\n",
    "    lambda _: now - timedelta(minutes=random.uniform(0, 5)),\n",
    "    range(tank_inches_until_alarm_df.height),\n",
    ")\n",
    "values = pl.Series(\"value\", values)\n",
    "ts = pl.Series(\"ts\", ts)\n",
    "tank_inches_to_esd = tank_inches_to_esd.with_columns(values, ts)\n",
    "tank_inches_to_esd"
   ]
  },
  {
   "cell_type": "code",
   "execution_count": 82,
   "metadata": {},
   "outputs": [
    {
     "data": {
      "text/html": [
       "<div><style>\n",
       ".dataframe > thead > tr,\n",
       ".dataframe > tbody > tr {\n",
       "  text-align: right;\n",
       "  white-space: pre-wrap;\n",
       "}\n",
       "</style>\n",
       "<small>shape: (4, 6)</small><table border=\"1\" class=\"dataframe\"><thead><tr><th>key_metric</th><th>metric_nice_name</th><th>uom</th><th>division_id</th><th>value</th><th>ts</th></tr><tr><td>object</td><td>str</td><td>str</td><td>i64</td><td>f64</td><td>datetime[μs]</td></tr></thead><tbody><tr><td>36c71979-943a-4544-a1db-50b3e60e5edd</td><td>&quot;OilTank1TimeUn…</td><td>&quot;days&quot;</td><td>30</td><td>4.09802</td><td>2024-03-04 04:10:00.867727</td></tr><tr><td>4ab57531-4dcf-4feb-be79-7b19c57b84f0</td><td>&quot;OilTank2TimeUn…</td><td>&quot;days&quot;</td><td>30</td><td>2.509076</td><td>2024-03-04 04:06:59.691010</td></tr><tr><td>d0819024-ab0d-4065-894d-8234e28a8ad3</td><td>&quot;WaterTank2Time…</td><td>&quot;days&quot;</td><td>30</td><td>6.875085</td><td>2024-03-04 04:08:02.603492</td></tr><tr><td>893b689c-a86d-489a-ad56-064372868099</td><td>&quot;WaterTank1Time…</td><td>&quot;days&quot;</td><td>30</td><td>3.859959</td><td>2024-03-04 04:11:29.478860</td></tr></tbody></table></div>"
      ],
      "text/plain": [
       "shape: (4, 6)\n",
       "┌────────────────────────┬───────────────────────┬──────┬─────────────┬──────────┬─────────────────┐\n",
       "│ key_metric             ┆ metric_nice_name      ┆ uom  ┆ division_id ┆ value    ┆ ts              │\n",
       "│ ---                    ┆ ---                   ┆ ---  ┆ ---         ┆ ---      ┆ ---             │\n",
       "│ object                 ┆ str                   ┆ str  ┆ i64         ┆ f64      ┆ datetime[μs]    │\n",
       "╞════════════════════════╪═══════════════════════╪══════╪═════════════╪══════════╪═════════════════╡\n",
       "│ 36c71979-943a-4544-a1d ┆ OilTank1TimeUntilESD  ┆ days ┆ 30          ┆ 4.09802  ┆ 2024-03-04      │\n",
       "│ b-50b3e60e…            ┆                       ┆      ┆             ┆          ┆ 04:10:00.867727 │\n",
       "│ 4ab57531-4dcf-4feb-be7 ┆ OilTank2TimeUntilESD  ┆ days ┆ 30          ┆ 2.509076 ┆ 2024-03-04      │\n",
       "│ 9-7b19c57b…            ┆                       ┆      ┆             ┆          ┆ 04:06:59.691010 │\n",
       "│ d0819024-ab0d-4065-894 ┆ WaterTank2TimeUntilES ┆ days ┆ 30          ┆ 6.875085 ┆ 2024-03-04      │\n",
       "│ d-8234e28a…            ┆ D                     ┆      ┆             ┆          ┆ 04:08:02.603492 │\n",
       "│ 893b689c-a86d-489a-ad5 ┆ WaterTank1TimeUntilES ┆ days ┆ 30          ┆ 3.859959 ┆ 2024-03-04      │\n",
       "│ 6-06437286…            ┆ D                     ┆      ┆             ┆          ┆ 04:11:29.478860 │\n",
       "└────────────────────────┴───────────────────────┴──────┴─────────────┴──────────┴─────────────────┘"
      ]
     },
     "execution_count": 82,
     "metadata": {},
     "output_type": "execute_result"
    }
   ],
   "source": [
    "time_until_esd = timeseries_df.filter(\n",
    "    pl.col(\"metric_nice_name\").str.contains(\"TimeUntilESD\")\n",
    ")\n",
    "values = map(lambda _: random.uniform(0.0, 7), range(time_until_esd.height))\n",
    "ts = map(\n",
    "    lambda _: now - timedelta(minutes=random.uniform(0, 5)),\n",
    "    range(time_until_esd.height),\n",
    ")\n",
    "values = pl.Series(\"value\", values)\n",
    "ts = pl.Series(\"ts\", ts)\n",
    "time_until_esd = time_until_esd.with_columns(values, ts)\n",
    "time_until_esd"
   ]
  },
  {
   "cell_type": "code",
   "execution_count": 84,
   "metadata": {},
   "outputs": [
    {
     "data": {
      "text/html": [
       "<div><style>\n",
       ".dataframe > thead > tr,\n",
       ".dataframe > tbody > tr {\n",
       "  text-align: right;\n",
       "  white-space: pre-wrap;\n",
       "}\n",
       "</style>\n",
       "<small>shape: (76, 3)</small><table border=\"1\" class=\"dataframe\"><thead><tr><th>key_metric</th><th>ts</th><th>value</th></tr><tr><td>object</td><td>datetime[μs]</td><td>f64</td></tr></thead><tbody><tr><td>36c71979-943a-4544-a1db-50b3e60e5edd</td><td>2024-03-04 04:10:00.867727</td><td>4.09802</td></tr><tr><td>4ab57531-4dcf-4feb-be79-7b19c57b84f0</td><td>2024-03-04 04:06:59.691010</td><td>2.509076</td></tr><tr><td>d0819024-ab0d-4065-894d-8234e28a8ad3</td><td>2024-03-04 04:08:02.603492</td><td>6.875085</td></tr><tr><td>893b689c-a86d-489a-ad56-064372868099</td><td>2024-03-04 04:11:29.478860</td><td>3.859959</td></tr><tr><td>6467561f-e9ac-4ba0-ac6b-1f1584ee029f</td><td>2024-03-04 04:08:02.303741</td><td>16.939264</td></tr><tr><td>&hellip;</td><td>&hellip;</td><td>&hellip;</td></tr><tr><td>299d6f76-46e8-49bc-b523-673d70d83097</td><td>2024-03-04 04:09:59.536485</td><td>71.580054</td></tr><tr><td>485dd9ce-55ea-4e34-b96f-21e413ab8a71</td><td>2023-11-07 09:00:00</td><td>406.056751</td></tr><tr><td>9e41a2e8-78d5-4dd9-b63f-66fa4676dcfb</td><td>2023-11-07 09:00:00</td><td>411.670254</td></tr><tr><td>1a909c77-d910-4862-b7f4-0ae902c9cbab</td><td>2023-11-07 09:00:00</td><td>405.121436</td></tr><tr><td>3ec25f10-df5b-433a-9aab-43c56d2a6057</td><td>2023-11-07 09:00:00</td><td>411.308083</td></tr></tbody></table></div>"
      ],
      "text/plain": [
       "shape: (76, 3)\n",
       "┌───────────────────────────────────┬────────────────────────────┬────────────┐\n",
       "│ key_metric                        ┆ ts                         ┆ value      │\n",
       "│ ---                               ┆ ---                        ┆ ---        │\n",
       "│ object                            ┆ datetime[μs]               ┆ f64        │\n",
       "╞═══════════════════════════════════╪════════════════════════════╪════════════╡\n",
       "│ 36c71979-943a-4544-a1db-50b3e60e… ┆ 2024-03-04 04:10:00.867727 ┆ 4.09802    │\n",
       "│ 4ab57531-4dcf-4feb-be79-7b19c57b… ┆ 2024-03-04 04:06:59.691010 ┆ 2.509076   │\n",
       "│ d0819024-ab0d-4065-894d-8234e28a… ┆ 2024-03-04 04:08:02.603492 ┆ 6.875085   │\n",
       "│ 893b689c-a86d-489a-ad56-06437286… ┆ 2024-03-04 04:11:29.478860 ┆ 3.859959   │\n",
       "│ 6467561f-e9ac-4ba0-ac6b-1f1584ee… ┆ 2024-03-04 04:08:02.303741 ┆ 16.939264  │\n",
       "│ …                                 ┆ …                          ┆ …          │\n",
       "│ 299d6f76-46e8-49bc-b523-673d70d8… ┆ 2024-03-04 04:09:59.536485 ┆ 71.580054  │\n",
       "│ 485dd9ce-55ea-4e34-b96f-21e413ab… ┆ 2023-11-07 09:00:00        ┆ 406.056751 │\n",
       "│ 9e41a2e8-78d5-4dd9-b63f-66fa4676… ┆ 2023-11-07 09:00:00        ┆ 411.670254 │\n",
       "│ 1a909c77-d910-4862-b7f4-0ae902c9… ┆ 2023-11-07 09:00:00        ┆ 405.121436 │\n",
       "│ 3ec25f10-df5b-433a-9aab-43c56d2a… ┆ 2023-11-07 09:00:00        ┆ 411.308083 │\n",
       "└───────────────────────────────────┴────────────────────────────┴────────────┘"
      ]
     },
     "execution_count": 84,
     "metadata": {},
     "output_type": "execute_result"
    }
   ],
   "source": [
    "new_timeseries_df = pl.concat(\n",
    "    [\n",
    "        time_until_esd,\n",
    "        tank_inches_to_esd,\n",
    "        tank_inches_until_alarm_df,\n",
    "        ESD_id_lf,\n",
    "        volume_df,\n",
    "        level_df,\n",
    "        capacity_df,\n",
    "    ],\n",
    "    how=\"diagonal\",\n",
    ")\n",
    "new_timeseries_df = new_timeseries_df.select(\"key_metric\", \"ts\", \"value\")\n",
    "new_timeseries_df"
   ]
  },
  {
   "cell_type": "code",
   "execution_count": 85,
   "metadata": {},
   "outputs": [
    {
     "ename": "KeyError",
     "evalue": "\"Datetime(time_unit='us', time_zone=None)\"",
     "output_type": "error",
     "traceback": [
      "\u001b[0;31m---------------------------------------------------------------------------\u001b[0m",
      "\u001b[0;31mKeyError\u001b[0m                                  Traceback (most recent call last)",
      "Cell \u001b[0;32mIn[85], line 1\u001b[0m\n\u001b[0;32m----> 1\u001b[0m \u001b[38;5;28;01mawait\u001b[39;00m db\u001b[38;5;241m.\u001b[39minsert(new_timeseries_df, \u001b[38;5;124m\"\u001b[39m\u001b[38;5;124msdm_dba.timeseries_data\u001b[39m\u001b[38;5;124m\"\u001b[39m)\n",
      "File \u001b[0;32m~/.cache/pypoetry/virtualenvs/eog-mock-EAJCQDzA-py3.12/lib/python3.12/site-packages/async_db_polars/pgdb.py:95\u001b[0m, in \u001b[0;36mPGDB.insert\u001b[0;34m(self, df, table_name, pkey_cols, return_cols, return_schema_overrides, timeout)\u001b[0m\n\u001b[1;32m     83\u001b[0m \u001b[38;5;28;01masync\u001b[39;00m \u001b[38;5;28;01mdef\u001b[39;00m \u001b[38;5;21minsert\u001b[39m(\n\u001b[1;32m     84\u001b[0m     \u001b[38;5;28mself\u001b[39m,\n\u001b[1;32m     85\u001b[0m     df: pl\u001b[38;5;241m.\u001b[39mDataFrame,\n\u001b[0;32m   (...)\u001b[0m\n\u001b[1;32m     91\u001b[0m     timeout: Optional[\u001b[38;5;28mfloat\u001b[39m] \u001b[38;5;241m=\u001b[39m \u001b[38;5;28;01mNone\u001b[39;00m,\n\u001b[1;32m     92\u001b[0m ):\n\u001b[1;32m     93\u001b[0m     cols_sql \u001b[38;5;241m=\u001b[39m \u001b[38;5;124m\"\u001b[39m\u001b[38;5;124m, \u001b[39m\u001b[38;5;124m\"\u001b[39m\u001b[38;5;241m.\u001b[39mjoin(df\u001b[38;5;241m.\u001b[39mcolumns)\n\u001b[0;32m---> 95\u001b[0m     placeholder_fillers \u001b[38;5;241m=\u001b[39m \u001b[38;5;124;43m\"\u001b[39;49m\u001b[38;5;124;43m, \u001b[39;49m\u001b[38;5;124;43m\"\u001b[39;49m\u001b[38;5;241;43m.\u001b[39;49m\u001b[43mjoin\u001b[49m\u001b[43m(\u001b[49m\n\u001b[1;32m     96\u001b[0m \u001b[43m        \u001b[49m\u001b[38;5;28;43mmap\u001b[39;49m\u001b[43m(\u001b[49m\n\u001b[1;32m     97\u001b[0m \u001b[43m            \u001b[49m\u001b[38;5;28;43;01mlambda\u001b[39;49;00m\u001b[43m \u001b[49m\u001b[43mx\u001b[49m\u001b[43m:\u001b[49m\u001b[43m \u001b[49m\u001b[38;5;124;43mf\u001b[39;49m\u001b[38;5;124;43m\"\u001b[39;49m\u001b[38;5;124;43m$\u001b[39;49m\u001b[38;5;132;43;01m{\u001b[39;49;00m\u001b[43mx\u001b[49m\u001b[43m[\u001b[49m\u001b[38;5;241;43m0\u001b[39;49m\u001b[43m]\u001b[49m\u001b[38;5;132;43;01m}\u001b[39;49;00m\u001b[38;5;124;43m::\u001b[39;49m\u001b[38;5;132;43;01m{\u001b[39;49;00m\u001b[43mPOLARS_TO_POSTGRES_TYPE_MAP\u001b[49m\u001b[43m[\u001b[49m\u001b[38;5;28;43mstr\u001b[39;49m\u001b[43m(\u001b[49m\u001b[43mx\u001b[49m\u001b[43m[\u001b[49m\u001b[38;5;241;43m1\u001b[39;49m\u001b[43m]\u001b[49m\u001b[43m[\u001b[49m\u001b[38;5;241;43m1\u001b[39;49m\u001b[43m]\u001b[49m\u001b[43m)\u001b[49m\u001b[43m]\u001b[49m\u001b[38;5;132;43;01m}\u001b[39;49;00m\u001b[38;5;124;43m[]\u001b[39;49m\u001b[38;5;124;43m\"\u001b[39;49m\u001b[43m,\u001b[49m\n\u001b[1;32m     98\u001b[0m \u001b[43m            \u001b[49m\u001b[38;5;28;43menumerate\u001b[39;49m\u001b[43m(\u001b[49m\u001b[43mdf\u001b[49m\u001b[38;5;241;43m.\u001b[39;49m\u001b[43mschema\u001b[49m\u001b[38;5;241;43m.\u001b[39;49m\u001b[43mitems\u001b[49m\u001b[43m(\u001b[49m\u001b[43m)\u001b[49m\u001b[43m,\u001b[49m\u001b[43m \u001b[49m\u001b[38;5;241;43m1\u001b[39;49m\u001b[43m)\u001b[49m\u001b[43m,\u001b[49m\n\u001b[1;32m     99\u001b[0m \u001b[43m        \u001b[49m\u001b[43m)\u001b[49m\n\u001b[1;32m    100\u001b[0m \u001b[43m    \u001b[49m\u001b[43m)\u001b[49m\n\u001b[1;32m    102\u001b[0m     conflict_resolution \u001b[38;5;241m=\u001b[39m (\n\u001b[1;32m    103\u001b[0m         \u001b[38;5;124mf\u001b[39m\u001b[38;5;124m\"\u001b[39m\u001b[38;5;124mON CONFLICT (\u001b[39m\u001b[38;5;132;01m{\u001b[39;00m\u001b[38;5;124m'\u001b[39m\u001b[38;5;124m, \u001b[39m\u001b[38;5;124m'\u001b[39m\u001b[38;5;241m.\u001b[39mjoin(pkey_cols)\u001b[38;5;132;01m}\u001b[39;00m\u001b[38;5;124m) DO UPDATE SET \u001b[39m\u001b[38;5;132;01m{\u001b[39;00mget_non_pkey_col_sql(df,\u001b[38;5;250m \u001b[39mpkey_cols,\u001b[38;5;250m \u001b[39mtable_name)\u001b[38;5;132;01m}\u001b[39;00m\u001b[38;5;124m\"\u001b[39m\n\u001b[1;32m    104\u001b[0m         \u001b[38;5;28;01mif\u001b[39;00m pkey_cols\n\u001b[1;32m    105\u001b[0m         \u001b[38;5;28;01melse\u001b[39;00m \u001b[38;5;124m\"\u001b[39m\u001b[38;5;124mON CONFLICT DO NOTHING\u001b[39m\u001b[38;5;124m\"\u001b[39m\n\u001b[1;32m    106\u001b[0m     )\n\u001b[1;32m    108\u001b[0m     return_cols_sql \u001b[38;5;241m=\u001b[39m \u001b[38;5;124mf\u001b[39m\u001b[38;5;124m\"\u001b[39m\u001b[38;5;124mRETURNING \u001b[39m\u001b[38;5;132;01m{\u001b[39;00m\u001b[38;5;124m\"\u001b[39m\u001b[38;5;124m, \u001b[39m\u001b[38;5;124m\"\u001b[39m\u001b[38;5;241m.\u001b[39mjoin(return_cols)\u001b[38;5;132;01m}\u001b[39;00m\u001b[38;5;124m\"\u001b[39m \u001b[38;5;28;01mif\u001b[39;00m return_cols \u001b[38;5;28;01melse\u001b[39;00m \u001b[38;5;124m\"\u001b[39m\u001b[38;5;124m\"\u001b[39m\n",
      "File \u001b[0;32m~/.cache/pypoetry/virtualenvs/eog-mock-EAJCQDzA-py3.12/lib/python3.12/site-packages/async_db_polars/pgdb.py:97\u001b[0m, in \u001b[0;36mPGDB.insert.<locals>.<lambda>\u001b[0;34m(x)\u001b[0m\n\u001b[1;32m     83\u001b[0m \u001b[38;5;28;01masync\u001b[39;00m \u001b[38;5;28;01mdef\u001b[39;00m \u001b[38;5;21minsert\u001b[39m(\n\u001b[1;32m     84\u001b[0m     \u001b[38;5;28mself\u001b[39m,\n\u001b[1;32m     85\u001b[0m     df: pl\u001b[38;5;241m.\u001b[39mDataFrame,\n\u001b[0;32m   (...)\u001b[0m\n\u001b[1;32m     91\u001b[0m     timeout: Optional[\u001b[38;5;28mfloat\u001b[39m] \u001b[38;5;241m=\u001b[39m \u001b[38;5;28;01mNone\u001b[39;00m,\n\u001b[1;32m     92\u001b[0m ):\n\u001b[1;32m     93\u001b[0m     cols_sql \u001b[38;5;241m=\u001b[39m \u001b[38;5;124m\"\u001b[39m\u001b[38;5;124m, \u001b[39m\u001b[38;5;124m\"\u001b[39m\u001b[38;5;241m.\u001b[39mjoin(df\u001b[38;5;241m.\u001b[39mcolumns)\n\u001b[1;32m     95\u001b[0m     placeholder_fillers \u001b[38;5;241m=\u001b[39m \u001b[38;5;124m\"\u001b[39m\u001b[38;5;124m, \u001b[39m\u001b[38;5;124m\"\u001b[39m\u001b[38;5;241m.\u001b[39mjoin(\n\u001b[1;32m     96\u001b[0m         \u001b[38;5;28mmap\u001b[39m(\n\u001b[0;32m---> 97\u001b[0m             \u001b[38;5;28;01mlambda\u001b[39;00m x: \u001b[38;5;124mf\u001b[39m\u001b[38;5;124m\"\u001b[39m\u001b[38;5;124m$\u001b[39m\u001b[38;5;132;01m{\u001b[39;00mx[\u001b[38;5;241m0\u001b[39m]\u001b[38;5;132;01m}\u001b[39;00m\u001b[38;5;124m::\u001b[39m\u001b[38;5;132;01m{\u001b[39;00m\u001b[43mPOLARS_TO_POSTGRES_TYPE_MAP\u001b[49m\u001b[43m[\u001b[49m\u001b[38;5;28;43mstr\u001b[39;49m\u001b[43m(\u001b[49m\u001b[43mx\u001b[49m\u001b[43m[\u001b[49m\u001b[38;5;241;43m1\u001b[39;49m\u001b[43m]\u001b[49m\u001b[43m[\u001b[49m\u001b[38;5;241;43m1\u001b[39;49m\u001b[43m]\u001b[49m\u001b[43m)\u001b[49m\u001b[43m]\u001b[49m\u001b[38;5;132;01m}\u001b[39;00m\u001b[38;5;124m[]\u001b[39m\u001b[38;5;124m\"\u001b[39m,\n\u001b[1;32m     98\u001b[0m             \u001b[38;5;28menumerate\u001b[39m(df\u001b[38;5;241m.\u001b[39mschema\u001b[38;5;241m.\u001b[39mitems(), \u001b[38;5;241m1\u001b[39m),\n\u001b[1;32m     99\u001b[0m         )\n\u001b[1;32m    100\u001b[0m     )\n\u001b[1;32m    102\u001b[0m     conflict_resolution \u001b[38;5;241m=\u001b[39m (\n\u001b[1;32m    103\u001b[0m         \u001b[38;5;124mf\u001b[39m\u001b[38;5;124m\"\u001b[39m\u001b[38;5;124mON CONFLICT (\u001b[39m\u001b[38;5;132;01m{\u001b[39;00m\u001b[38;5;124m'\u001b[39m\u001b[38;5;124m, \u001b[39m\u001b[38;5;124m'\u001b[39m\u001b[38;5;241m.\u001b[39mjoin(pkey_cols)\u001b[38;5;132;01m}\u001b[39;00m\u001b[38;5;124m) DO UPDATE SET \u001b[39m\u001b[38;5;132;01m{\u001b[39;00mget_non_pkey_col_sql(df,\u001b[38;5;250m \u001b[39mpkey_cols,\u001b[38;5;250m \u001b[39mtable_name)\u001b[38;5;132;01m}\u001b[39;00m\u001b[38;5;124m\"\u001b[39m\n\u001b[1;32m    104\u001b[0m         \u001b[38;5;28;01mif\u001b[39;00m pkey_cols\n\u001b[1;32m    105\u001b[0m         \u001b[38;5;28;01melse\u001b[39;00m \u001b[38;5;124m\"\u001b[39m\u001b[38;5;124mON CONFLICT DO NOTHING\u001b[39m\u001b[38;5;124m\"\u001b[39m\n\u001b[1;32m    106\u001b[0m     )\n\u001b[1;32m    108\u001b[0m     return_cols_sql \u001b[38;5;241m=\u001b[39m \u001b[38;5;124mf\u001b[39m\u001b[38;5;124m\"\u001b[39m\u001b[38;5;124mRETURNING \u001b[39m\u001b[38;5;132;01m{\u001b[39;00m\u001b[38;5;124m\"\u001b[39m\u001b[38;5;124m, \u001b[39m\u001b[38;5;124m\"\u001b[39m\u001b[38;5;241m.\u001b[39mjoin(return_cols)\u001b[38;5;132;01m}\u001b[39;00m\u001b[38;5;124m\"\u001b[39m \u001b[38;5;28;01mif\u001b[39;00m return_cols \u001b[38;5;28;01melse\u001b[39;00m \u001b[38;5;124m\"\u001b[39m\u001b[38;5;124m\"\u001b[39m\n",
      "\u001b[0;31mKeyError\u001b[0m: \"Datetime(time_unit='us', time_zone=None)\""
     ]
    }
   ],
   "source": []
  }
 ],
 "metadata": {
  "kernelspec": {
   "display_name": "Python 3",
   "language": "python",
   "name": "python3"
  },
  "language_info": {
   "codemirror_mode": {
    "name": "ipython",
    "version": 3
   },
   "file_extension": ".py",
   "mimetype": "text/x-python",
   "name": "python",
   "nbconvert_exporter": "python",
   "pygments_lexer": "ipython3",
   "version": "3.12.2"
  }
 },
 "nbformat": 4,
 "nbformat_minor": 2
}
